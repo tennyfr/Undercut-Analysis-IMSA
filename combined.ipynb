{
 "cells": [
  {
   "cell_type": "code",
   "execution_count": 4,
   "id": "initial_id",
   "metadata": {
    "collapsed": true,
    "ExecuteTime": {
     "end_time": "2024-08-10T03:50:16.858434Z",
     "start_time": "2024-08-10T03:50:16.836227Z"
    }
   },
   "outputs": [
    {
     "data": {
      "text/plain": "   Year   Car  Position    Lap  Gap Before Pit  Laps Until Front Car Pit  \\\n0  2022  96.0         5   82.0           2.979                       0.0   \n1  2022  96.0         4   99.0           1.654                       0.0   \n2  2022  96.0         4  149.0           3.950                       0.0   \n3  2022  96.0         3  163.0           2.457                       0.0   \n4  2022  96.0         7  187.0           1.818                       0.0   \n\n   Stint  Front Car Stint  Passed  \n0   23.5             24.5       0  \n1   13.5             13.0       1  \n2   20.0             21.0       1  \n3   11.0             11.0       0  \n4   19.5             19.5       1  ",
      "text/html": "<div>\n<style scoped>\n    .dataframe tbody tr th:only-of-type {\n        vertical-align: middle;\n    }\n\n    .dataframe tbody tr th {\n        vertical-align: top;\n    }\n\n    .dataframe thead th {\n        text-align: right;\n    }\n</style>\n<table border=\"1\" class=\"dataframe\">\n  <thead>\n    <tr style=\"text-align: right;\">\n      <th></th>\n      <th>Year</th>\n      <th>Car</th>\n      <th>Position</th>\n      <th>Lap</th>\n      <th>Gap Before Pit</th>\n      <th>Laps Until Front Car Pit</th>\n      <th>Stint</th>\n      <th>Front Car Stint</th>\n      <th>Passed</th>\n    </tr>\n  </thead>\n  <tbody>\n    <tr>\n      <th>0</th>\n      <td>2022</td>\n      <td>96.0</td>\n      <td>5</td>\n      <td>82.0</td>\n      <td>2.979</td>\n      <td>0.0</td>\n      <td>23.5</td>\n      <td>24.5</td>\n      <td>0</td>\n    </tr>\n    <tr>\n      <th>1</th>\n      <td>2022</td>\n      <td>96.0</td>\n      <td>4</td>\n      <td>99.0</td>\n      <td>1.654</td>\n      <td>0.0</td>\n      <td>13.5</td>\n      <td>13.0</td>\n      <td>1</td>\n    </tr>\n    <tr>\n      <th>2</th>\n      <td>2022</td>\n      <td>96.0</td>\n      <td>4</td>\n      <td>149.0</td>\n      <td>3.950</td>\n      <td>0.0</td>\n      <td>20.0</td>\n      <td>21.0</td>\n      <td>1</td>\n    </tr>\n    <tr>\n      <th>3</th>\n      <td>2022</td>\n      <td>96.0</td>\n      <td>3</td>\n      <td>163.0</td>\n      <td>2.457</td>\n      <td>0.0</td>\n      <td>11.0</td>\n      <td>11.0</td>\n      <td>0</td>\n    </tr>\n    <tr>\n      <th>4</th>\n      <td>2022</td>\n      <td>96.0</td>\n      <td>7</td>\n      <td>187.0</td>\n      <td>1.818</td>\n      <td>0.0</td>\n      <td>19.5</td>\n      <td>19.5</td>\n      <td>1</td>\n    </tr>\n  </tbody>\n</table>\n</div>"
     },
     "execution_count": 4,
     "metadata": {},
     "output_type": "execute_result"
    }
   ],
   "source": [
    "import pandas as pd\n",
    "dp = r'C:\\Users\\lucas\\Downloads\\FYM\\Compiled Daytona.csv'\n",
    "sp = r'C:\\Users\\lucas\\Downloads\\FYM\\Compiled Sebring.csv'\n",
    "wp = r'C:\\Users\\lucas\\Downloads\\FYM\\Compiled Watkins Glen.csv'\n",
    "ap = r'C:\\Users\\lucas\\Downloads\\FYM\\Compiled Road Atlanta.csv'\n",
    "\n",
    "s = pd.read_csv(sp)\n",
    "w = pd.read_csv(wp)\n",
    "d = pd.read_csv(dp)\n",
    "a = pd.read_csv(ap)\n",
    "s.head()"
   ]
  },
  {
   "cell_type": "code",
   "outputs": [],
   "source": [
    "combined = pd.concat([d, s, w, a], ignore_index=True)"
   ],
   "metadata": {
    "collapsed": false,
    "ExecuteTime": {
     "end_time": "2024-08-10T03:48:37.635974Z",
     "start_time": "2024-08-10T03:48:37.628985Z"
    }
   },
   "id": "6e378bf6163673ba",
   "execution_count": 2
  },
  {
   "cell_type": "code",
   "outputs": [],
   "source": [
    "combined.to_csv(r'C:\\Users\\lucas\\Downloads\\FYM\\Compiled.csv')"
   ],
   "metadata": {
    "collapsed": false,
    "ExecuteTime": {
     "end_time": "2024-08-10T03:51:23.346542Z",
     "start_time": "2024-08-10T03:51:23.335636Z"
    }
   },
   "id": "237e5487abfaecff",
   "execution_count": 5
  },
  {
   "cell_type": "code",
   "outputs": [],
   "source": [],
   "metadata": {
    "collapsed": false
   },
   "id": "6de43a22855bc157"
  }
 ],
 "metadata": {
  "kernelspec": {
   "display_name": "Python 3",
   "language": "python",
   "name": "python3"
  },
  "language_info": {
   "codemirror_mode": {
    "name": "ipython",
    "version": 2
   },
   "file_extension": ".py",
   "mimetype": "text/x-python",
   "name": "python",
   "nbconvert_exporter": "python",
   "pygments_lexer": "ipython2",
   "version": "2.7.6"
  }
 },
 "nbformat": 4,
 "nbformat_minor": 5
}
