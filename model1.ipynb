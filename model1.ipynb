{
 "cells": [
  {
   "cell_type": "code",
   "execution_count": 79,
   "id": "initial_id",
   "metadata": {
    "collapsed": true,
    "ExecuteTime": {
     "end_time": "2024-08-10T03:53:09.282567Z",
     "start_time": "2024-08-10T03:53:09.266712Z"
    }
   },
   "outputs": [
    {
     "data": {
      "text/plain": "   Unnamed: 0  Year   Car  Position    Lap  Gap Before Pit  \\\n0           0  2022  59.0        13  112.0           1.059   \n1           1  2022  57.0         6  199.0           4.326   \n2           2  2022  57.0         2  487.0           0.611   \n3           3  2022  57.0         3  517.0           4.268   \n4           4  2022  57.0         3  528.0           1.774   \n\n   Laps Until Front Car Pit  Stint  Front Car Stint  Passed  \n0                      19.0    9.5             28.0       0  \n1                       0.0   17.0             26.5       1  \n2                       0.0   21.5             16.5       1  \n3                       0.0   27.0             27.0       0  \n4                      20.0   10.0             30.0       0  ",
      "text/html": "<div>\n<style scoped>\n    .dataframe tbody tr th:only-of-type {\n        vertical-align: middle;\n    }\n\n    .dataframe tbody tr th {\n        vertical-align: top;\n    }\n\n    .dataframe thead th {\n        text-align: right;\n    }\n</style>\n<table border=\"1\" class=\"dataframe\">\n  <thead>\n    <tr style=\"text-align: right;\">\n      <th></th>\n      <th>Unnamed: 0</th>\n      <th>Year</th>\n      <th>Car</th>\n      <th>Position</th>\n      <th>Lap</th>\n      <th>Gap Before Pit</th>\n      <th>Laps Until Front Car Pit</th>\n      <th>Stint</th>\n      <th>Front Car Stint</th>\n      <th>Passed</th>\n    </tr>\n  </thead>\n  <tbody>\n    <tr>\n      <th>0</th>\n      <td>0</td>\n      <td>2022</td>\n      <td>59.0</td>\n      <td>13</td>\n      <td>112.0</td>\n      <td>1.059</td>\n      <td>19.0</td>\n      <td>9.5</td>\n      <td>28.0</td>\n      <td>0</td>\n    </tr>\n    <tr>\n      <th>1</th>\n      <td>1</td>\n      <td>2022</td>\n      <td>57.0</td>\n      <td>6</td>\n      <td>199.0</td>\n      <td>4.326</td>\n      <td>0.0</td>\n      <td>17.0</td>\n      <td>26.5</td>\n      <td>1</td>\n    </tr>\n    <tr>\n      <th>2</th>\n      <td>2</td>\n      <td>2022</td>\n      <td>57.0</td>\n      <td>2</td>\n      <td>487.0</td>\n      <td>0.611</td>\n      <td>0.0</td>\n      <td>21.5</td>\n      <td>16.5</td>\n      <td>1</td>\n    </tr>\n    <tr>\n      <th>3</th>\n      <td>3</td>\n      <td>2022</td>\n      <td>57.0</td>\n      <td>3</td>\n      <td>517.0</td>\n      <td>4.268</td>\n      <td>0.0</td>\n      <td>27.0</td>\n      <td>27.0</td>\n      <td>0</td>\n    </tr>\n    <tr>\n      <th>4</th>\n      <td>4</td>\n      <td>2022</td>\n      <td>57.0</td>\n      <td>3</td>\n      <td>528.0</td>\n      <td>1.774</td>\n      <td>20.0</td>\n      <td>10.0</td>\n      <td>30.0</td>\n      <td>0</td>\n    </tr>\n  </tbody>\n</table>\n</div>"
     },
     "execution_count": 79,
     "metadata": {},
     "output_type": "execute_result"
    }
   ],
   "source": [
    "import numpy as np\n",
    "import pandas as pd\n",
    "from sklearn.model_selection import train_test_split\n",
    "from sklearn.ensemble import RandomForestRegressor\n",
    "from sklearn.metrics import mean_squared_error, accuracy_score, classification_report\n",
    "\n",
    "file_path = r'C:\\Users\\lucas\\Downloads\\FYM\\Compiled.csv'\n",
    "data = pd.read_csv(file_path)\n",
    "\n",
    "data.head()"
   ]
  },
  {
   "cell_type": "code",
   "outputs": [
    {
     "data": {
      "text/plain": "   Unnamed: 0  Year   Car  Position    Lap  Gap Before Pit  \\\n0           0  2022  59.0        13  112.0           1.059   \n1           1  2022  57.0         6  199.0           4.326   \n2           2  2022  57.0         2  487.0           0.611   \n3           3  2022  57.0         3  517.0           4.268   \n4           4  2022  57.0         3  528.0           1.774   \n\n   Laps Until Front Car Pit  Stint  Front Car Stint  Passed  Stint Difference  \n0                      19.0    9.5             28.0       0             -18.5  \n1                       0.0   17.0             26.5       1              -9.5  \n2                       0.0   21.5             16.5       1               5.0  \n3                       0.0   27.0             27.0       0               0.0  \n4                      20.0   10.0             30.0       0             -20.0  ",
      "text/html": "<div>\n<style scoped>\n    .dataframe tbody tr th:only-of-type {\n        vertical-align: middle;\n    }\n\n    .dataframe tbody tr th {\n        vertical-align: top;\n    }\n\n    .dataframe thead th {\n        text-align: right;\n    }\n</style>\n<table border=\"1\" class=\"dataframe\">\n  <thead>\n    <tr style=\"text-align: right;\">\n      <th></th>\n      <th>Unnamed: 0</th>\n      <th>Year</th>\n      <th>Car</th>\n      <th>Position</th>\n      <th>Lap</th>\n      <th>Gap Before Pit</th>\n      <th>Laps Until Front Car Pit</th>\n      <th>Stint</th>\n      <th>Front Car Stint</th>\n      <th>Passed</th>\n      <th>Stint Difference</th>\n    </tr>\n  </thead>\n  <tbody>\n    <tr>\n      <th>0</th>\n      <td>0</td>\n      <td>2022</td>\n      <td>59.0</td>\n      <td>13</td>\n      <td>112.0</td>\n      <td>1.059</td>\n      <td>19.0</td>\n      <td>9.5</td>\n      <td>28.0</td>\n      <td>0</td>\n      <td>-18.5</td>\n    </tr>\n    <tr>\n      <th>1</th>\n      <td>1</td>\n      <td>2022</td>\n      <td>57.0</td>\n      <td>6</td>\n      <td>199.0</td>\n      <td>4.326</td>\n      <td>0.0</td>\n      <td>17.0</td>\n      <td>26.5</td>\n      <td>1</td>\n      <td>-9.5</td>\n    </tr>\n    <tr>\n      <th>2</th>\n      <td>2</td>\n      <td>2022</td>\n      <td>57.0</td>\n      <td>2</td>\n      <td>487.0</td>\n      <td>0.611</td>\n      <td>0.0</td>\n      <td>21.5</td>\n      <td>16.5</td>\n      <td>1</td>\n      <td>5.0</td>\n    </tr>\n    <tr>\n      <th>3</th>\n      <td>3</td>\n      <td>2022</td>\n      <td>57.0</td>\n      <td>3</td>\n      <td>517.0</td>\n      <td>4.268</td>\n      <td>0.0</td>\n      <td>27.0</td>\n      <td>27.0</td>\n      <td>0</td>\n      <td>0.0</td>\n    </tr>\n    <tr>\n      <th>4</th>\n      <td>4</td>\n      <td>2022</td>\n      <td>57.0</td>\n      <td>3</td>\n      <td>528.0</td>\n      <td>1.774</td>\n      <td>20.0</td>\n      <td>10.0</td>\n      <td>30.0</td>\n      <td>0</td>\n      <td>-20.0</td>\n    </tr>\n  </tbody>\n</table>\n</div>"
     },
     "execution_count": 80,
     "metadata": {},
     "output_type": "execute_result"
    }
   ],
   "source": [
    "data['Stint Difference'] = data.apply(lambda row: row['Stint'] - row['Front Car Stint'], axis=1)\n",
    "data.head()"
   ],
   "metadata": {
    "collapsed": false,
    "ExecuteTime": {
     "end_time": "2024-08-10T03:53:09.300845Z",
     "start_time": "2024-08-10T03:53:09.285176Z"
    }
   },
   "id": "f7a09f23e9f3b606",
   "execution_count": 80
  },
  {
   "cell_type": "code",
   "outputs": [
    {
     "name": "stdout",
     "output_type": "stream",
     "text": [
      "                          importance\n",
      "Gap Before Pit              0.293417\n",
      "Position                    0.196223\n",
      "Stint                       0.155899\n",
      "Stint Difference            0.154748\n",
      "Front Car Stint             0.133706\n",
      "Laps Until Front Car Pit    0.066007\n"
     ]
    }
   ],
   "source": [
    "X = data[['Position', 'Gap Before Pit', 'Laps Until Front Car Pit', 'Stint', 'Front Car Stint', 'Stint Difference']]\n",
    "y = data['Passed']\n",
    "\n",
    "X_train, X_test, y_train, y_test = train_test_split(X, y, test_size=0.2, random_state=1)\n",
    "\n",
    "model = RandomForestRegressor(n_estimators=100, random_state=1)\n",
    "model.fit(X_train, y_train)\n",
    "\n",
    "y_pred = model.predict(X_test)\n",
    "\n",
    "\n",
    "# Display feature importance\n",
    "feature_importance = pd.DataFrame(model.feature_importances_, index=X.columns, columns=['importance']).sort_values('importance', ascending=False)\n",
    "print(feature_importance)"
   ],
   "metadata": {
    "collapsed": false,
    "ExecuteTime": {
     "end_time": "2024-08-10T03:53:09.496676Z",
     "start_time": "2024-08-10T03:53:09.317545Z"
    }
   },
   "id": "da42c29fcf504cfb",
   "execution_count": 81
  },
  {
   "cell_type": "code",
   "outputs": [
    {
     "name": "stdout",
     "output_type": "stream",
     "text": [
      "Actual: 0, Predicted: 0.67\n",
      "Actual: 0, Predicted: 0.33\n",
      "Actual: 0, Predicted: 0.09\n",
      "Actual: 0, Predicted: 0.56\n",
      "Actual: 1, Predicted: 0.13\n",
      "Actual: 1, Predicted: 0.93\n",
      "Actual: 1, Predicted: 0.48\n",
      "Actual: 1, Predicted: 0.64\n",
      "Actual: 1, Predicted: 0.46\n",
      "Actual: 1, Predicted: 0.95\n",
      "Actual: 0, Predicted: 0.3\n",
      "Actual: 1, Predicted: 0.62\n",
      "Actual: 0, Predicted: 0.06\n",
      "Actual: 1, Predicted: 0.89\n",
      "Actual: 1, Predicted: 0.58\n",
      "Actual: 0, Predicted: 0.59\n",
      "Actual: 1, Predicted: 0.35\n",
      "Actual: 0, Predicted: 0.17\n",
      "Actual: 0, Predicted: 0.42\n",
      "Actual: 1, Predicted: 0.33\n",
      "Actual: 1, Predicted: 1.0\n",
      "Actual: 1, Predicted: 0.9\n",
      "Actual: 0, Predicted: 0.68\n",
      "Actual: 1, Predicted: 0.88\n",
      "Actual: 1, Predicted: 0.69\n",
      "Actual: 0, Predicted: 0.66\n",
      "Actual: 1, Predicted: 0.8\n",
      "Actual: 1, Predicted: 0.28\n",
      "Actual: 0, Predicted: 0.57\n",
      "Actual: 1, Predicted: 0.64\n",
      "Actual: 0, Predicted: 0.74\n",
      "Actual: 1, Predicted: 0.79\n",
      "Actual: 1, Predicted: 0.73\n",
      "Actual: 0, Predicted: 0.31\n",
      "Actual: 1, Predicted: 0.68\n",
      "Actual: 0, Predicted: 0.3\n",
      "Actual: 0, Predicted: 0.65\n",
      "Actual: 0, Predicted: 0.48\n",
      "Actual: 1, Predicted: 0.69\n",
      "Actual: 0, Predicted: 0.8\n",
      "Actual: 1, Predicted: 0.43\n",
      "Actual: 1, Predicted: 0.16\n",
      "Actual: 1, Predicted: 0.95\n",
      "Actual: 1, Predicted: 0.51\n",
      "Actual: 1, Predicted: 0.44\n",
      "Actual: 1, Predicted: 1.0\n",
      "Actual: 1, Predicted: 0.23\n",
      "Actual: 0, Predicted: 0.45\n",
      "Actual: 0, Predicted: 0.52\n",
      "Actual: 0, Predicted: 0.02\n",
      "Actual: 1, Predicted: 0.58\n",
      "Actual: 0, Predicted: 0.71\n",
      "Actual: 1, Predicted: 0.9\n",
      "Actual: 1, Predicted: 0.64\n",
      "Actual: 0, Predicted: 0.45\n",
      "Actual: 0, Predicted: 0.08\n",
      "Actual: 0, Predicted: 0.4\n",
      "Actual: 0, Predicted: 0.66\n",
      "Actual: 0, Predicted: 0.05\n",
      "Actual: 1, Predicted: 1.0\n",
      "Actual: 1, Predicted: 0.58\n",
      "Actual: 1, Predicted: 0.27\n",
      "Actual: 0, Predicted: 0.26\n",
      "Actual: 0, Predicted: 0.77\n",
      "Actual: 1, Predicted: 0.66\n",
      "Actual: 0, Predicted: 0.79\n",
      "Actual: 0, Predicted: 0.05\n",
      "Actual: 1, Predicted: 0.92\n",
      "Actual: 0, Predicted: 0.75\n",
      "Actual: 0, Predicted: 0.36\n",
      "Actual: 1, Predicted: 0.99\n",
      "Actual: 0, Predicted: 0.48\n",
      "Actual: 0, Predicted: 0.44\n",
      "Actual: 1, Predicted: 0.71\n",
      "Actual: 0, Predicted: 0.23\n",
      "Actual: 0, Predicted: 0.55\n",
      "Actual: 1, Predicted: 0.92\n",
      "Actual: 0, Predicted: 0.31\n",
      "Actual: 1, Predicted: 0.67\n",
      "Actual: 1, Predicted: 0.63\n",
      "Actual: 0, Predicted: 0.34\n",
      "Actual: 1, Predicted: 0.88\n",
      "Actual: 0, Predicted: 0.1\n",
      "Actual: 1, Predicted: 0.69\n",
      "Actual: 1, Predicted: 0.98\n",
      "Actual: 1, Predicted: 0.25\n",
      "Actual: 0, Predicted: 0.29\n",
      "Actual: 0, Predicted: 0.7\n",
      "Actual: 1, Predicted: 0.62\n",
      "Actual: 1, Predicted: 0.61\n",
      "Actual: 1, Predicted: 0.45\n",
      "Actual: 1, Predicted: 0.58\n",
      "Actual: 0, Predicted: 0.03\n",
      "Actual: 1, Predicted: 0.62\n",
      "Actual: 1, Predicted: 0.2\n",
      "Actual: 1, Predicted: 0.56\n",
      "Actual: 0, Predicted: 0.65\n",
      "Actual: 1, Predicted: 0.21\n",
      "Actual: 1, Predicted: 0.69\n",
      "Actual: 1, Predicted: 0.13\n",
      "Actual: 1, Predicted: 0.37\n",
      "Actual: 0, Predicted: 0.09\n",
      "Actual: 1, Predicted: 0.53\n",
      "Actual: 0, Predicted: 0.01\n",
      "Actual: 1, Predicted: 0.46\n",
      "Actual: 1, Predicted: 0.49\n",
      "Actual: 0, Predicted: 0.24\n",
      "Actual: 1, Predicted: 0.83\n",
      "Actual: 1, Predicted: 0.98\n",
      "Actual: 0, Predicted: 0.67\n",
      "Actual: 1, Predicted: 0.57\n",
      "Actual: 1, Predicted: 0.25\n",
      "Actual: 0, Predicted: 0.04\n",
      "Actual: 0, Predicted: 0.38\n",
      "Actual: 0, Predicted: 0.31\n",
      "Actual: 1, Predicted: 0.19\n",
      "Actual: 0, Predicted: 0.33\n",
      "Actual: 1, Predicted: 0.94\n",
      "Actual: 1, Predicted: 0.53\n",
      "Actual: 0, Predicted: 0.62\n",
      "Actual: 0, Predicted: 0.33\n",
      "Actual: 1, Predicted: 0.55\n",
      "Actual: 1, Predicted: 0.65\n",
      "Actual: 1, Predicted: 0.1\n",
      "Actual: 1, Predicted: 0.46\n",
      "Actual: 1, Predicted: 0.88\n",
      "Actual: 1, Predicted: 0.49\n",
      "Actual: 0, Predicted: 0.39\n",
      "Actual: 1, Predicted: 0.28\n",
      "Actual: 0, Predicted: 0.26\n",
      "Actual: 0, Predicted: 0.5\n",
      "Actual: 1, Predicted: 0.54\n",
      "Actual: 1, Predicted: 0.97\n",
      "Actual: 1, Predicted: 0.2\n",
      "Actual: 0, Predicted: 0.18\n",
      "Actual: 0, Predicted: 0.43\n",
      "Actual: 1, Predicted: 0.17\n",
      "Actual: 1, Predicted: 0.27\n",
      "Actual: 0, Predicted: 0.41\n",
      "Actual: 0, Predicted: 0.26\n",
      "Actual: 1, Predicted: 0.69\n",
      "Actual: 1, Predicted: 0.78\n"
     ]
    }
   ],
   "source": [
    "for actual, predicted in zip(y_test, y_pred):\n",
    "    print(f\"Actual: {actual}, Predicted: {predicted}\")"
   ],
   "metadata": {
    "collapsed": false,
    "ExecuteTime": {
     "end_time": "2024-08-10T03:53:09.502611Z",
     "start_time": "2024-08-10T03:53:09.497905Z"
    }
   },
   "id": "30ea44e3f21e17e4",
   "execution_count": 82
  },
  {
   "cell_type": "code",
   "outputs": [
    {
     "name": "stdout",
     "output_type": "stream",
     "text": [
      "Actual: 0, Predicted: 1.0\n",
      "Actual: 0, Predicted: 0.0\n",
      "Actual: 0, Predicted: 0.0\n",
      "Actual: 0, Predicted: 1.0\n",
      "Actual: 1, Predicted: 0.0\n",
      "Actual: 1, Predicted: 1.0\n",
      "Actual: 1, Predicted: 0.0\n",
      "Actual: 1, Predicted: 1.0\n",
      "Actual: 1, Predicted: 0.0\n",
      "Actual: 1, Predicted: 1.0\n",
      "Actual: 0, Predicted: 0.0\n",
      "Actual: 1, Predicted: 1.0\n",
      "Actual: 0, Predicted: 0.0\n",
      "Actual: 1, Predicted: 1.0\n",
      "Actual: 1, Predicted: 1.0\n",
      "Actual: 0, Predicted: 1.0\n",
      "Actual: 1, Predicted: 0.0\n",
      "Actual: 0, Predicted: 0.0\n",
      "Actual: 0, Predicted: 0.0\n",
      "Actual: 1, Predicted: 0.0\n",
      "Actual: 1, Predicted: 1.0\n",
      "Actual: 1, Predicted: 1.0\n",
      "Actual: 0, Predicted: 1.0\n",
      "Actual: 1, Predicted: 1.0\n",
      "Actual: 1, Predicted: 1.0\n",
      "Actual: 0, Predicted: 1.0\n",
      "Actual: 1, Predicted: 1.0\n",
      "Actual: 1, Predicted: 0.0\n",
      "Actual: 0, Predicted: 1.0\n",
      "Actual: 1, Predicted: 1.0\n",
      "Actual: 0, Predicted: 1.0\n",
      "Actual: 1, Predicted: 1.0\n",
      "Actual: 1, Predicted: 1.0\n",
      "Actual: 0, Predicted: 0.0\n",
      "Actual: 1, Predicted: 1.0\n",
      "Actual: 0, Predicted: 0.0\n",
      "Actual: 0, Predicted: 1.0\n",
      "Actual: 0, Predicted: 0.0\n",
      "Actual: 1, Predicted: 1.0\n",
      "Actual: 0, Predicted: 1.0\n",
      "Actual: 1, Predicted: 0.0\n",
      "Actual: 1, Predicted: 0.0\n",
      "Actual: 1, Predicted: 1.0\n",
      "Actual: 1, Predicted: 1.0\n",
      "Actual: 1, Predicted: 0.0\n",
      "Actual: 1, Predicted: 1.0\n",
      "Actual: 1, Predicted: 0.0\n",
      "Actual: 0, Predicted: 0.0\n",
      "Actual: 0, Predicted: 1.0\n",
      "Actual: 0, Predicted: 0.0\n",
      "Actual: 1, Predicted: 1.0\n",
      "Actual: 0, Predicted: 1.0\n",
      "Actual: 1, Predicted: 1.0\n",
      "Actual: 1, Predicted: 1.0\n",
      "Actual: 0, Predicted: 0.0\n",
      "Actual: 0, Predicted: 0.0\n",
      "Actual: 0, Predicted: 0.0\n",
      "Actual: 0, Predicted: 1.0\n",
      "Actual: 0, Predicted: 0.0\n",
      "Actual: 1, Predicted: 1.0\n",
      "Actual: 1, Predicted: 1.0\n",
      "Actual: 1, Predicted: 0.0\n",
      "Actual: 0, Predicted: 0.0\n",
      "Actual: 0, Predicted: 1.0\n",
      "Actual: 1, Predicted: 1.0\n",
      "Actual: 0, Predicted: 1.0\n",
      "Actual: 0, Predicted: 0.0\n",
      "Actual: 1, Predicted: 1.0\n",
      "Actual: 0, Predicted: 1.0\n",
      "Actual: 0, Predicted: 0.0\n",
      "Actual: 1, Predicted: 1.0\n",
      "Actual: 0, Predicted: 0.0\n",
      "Actual: 0, Predicted: 0.0\n",
      "Actual: 1, Predicted: 1.0\n",
      "Actual: 0, Predicted: 0.0\n",
      "Actual: 0, Predicted: 1.0\n",
      "Actual: 1, Predicted: 1.0\n",
      "Actual: 0, Predicted: 0.0\n",
      "Actual: 1, Predicted: 1.0\n",
      "Actual: 1, Predicted: 1.0\n",
      "Actual: 0, Predicted: 0.0\n",
      "Actual: 1, Predicted: 1.0\n",
      "Actual: 0, Predicted: 0.0\n",
      "Actual: 1, Predicted: 1.0\n",
      "Actual: 1, Predicted: 1.0\n",
      "Actual: 1, Predicted: 0.0\n",
      "Actual: 0, Predicted: 0.0\n",
      "Actual: 0, Predicted: 1.0\n",
      "Actual: 1, Predicted: 1.0\n",
      "Actual: 1, Predicted: 1.0\n",
      "Actual: 1, Predicted: 0.0\n",
      "Actual: 1, Predicted: 1.0\n",
      "Actual: 0, Predicted: 0.0\n",
      "Actual: 1, Predicted: 1.0\n",
      "Actual: 1, Predicted: 0.0\n",
      "Actual: 1, Predicted: 1.0\n",
      "Actual: 0, Predicted: 1.0\n",
      "Actual: 1, Predicted: 0.0\n",
      "Actual: 1, Predicted: 1.0\n",
      "Actual: 1, Predicted: 0.0\n",
      "Actual: 1, Predicted: 0.0\n",
      "Actual: 0, Predicted: 0.0\n",
      "Actual: 1, Predicted: 1.0\n",
      "Actual: 0, Predicted: 0.0\n",
      "Actual: 1, Predicted: 0.0\n",
      "Actual: 1, Predicted: 0.0\n",
      "Actual: 0, Predicted: 0.0\n",
      "Actual: 1, Predicted: 1.0\n",
      "Actual: 1, Predicted: 1.0\n",
      "Actual: 0, Predicted: 1.0\n",
      "Actual: 1, Predicted: 1.0\n",
      "Actual: 1, Predicted: 0.0\n",
      "Actual: 0, Predicted: 0.0\n",
      "Actual: 0, Predicted: 0.0\n",
      "Actual: 0, Predicted: 0.0\n",
      "Actual: 1, Predicted: 0.0\n",
      "Actual: 0, Predicted: 0.0\n",
      "Actual: 1, Predicted: 1.0\n",
      "Actual: 1, Predicted: 1.0\n",
      "Actual: 0, Predicted: 1.0\n",
      "Actual: 0, Predicted: 0.0\n",
      "Actual: 1, Predicted: 1.0\n",
      "Actual: 1, Predicted: 1.0\n",
      "Actual: 1, Predicted: 0.0\n",
      "Actual: 1, Predicted: 0.0\n",
      "Actual: 1, Predicted: 1.0\n",
      "Actual: 1, Predicted: 0.0\n",
      "Actual: 0, Predicted: 0.0\n",
      "Actual: 1, Predicted: 0.0\n",
      "Actual: 0, Predicted: 0.0\n",
      "Actual: 0, Predicted: 0.0\n",
      "Actual: 1, Predicted: 1.0\n",
      "Actual: 1, Predicted: 1.0\n",
      "Actual: 1, Predicted: 0.0\n",
      "Actual: 0, Predicted: 0.0\n",
      "Actual: 0, Predicted: 0.0\n",
      "Actual: 1, Predicted: 0.0\n",
      "Actual: 1, Predicted: 0.0\n",
      "Actual: 0, Predicted: 0.0\n",
      "Actual: 0, Predicted: 0.0\n",
      "Actual: 1, Predicted: 1.0\n",
      "Actual: 1, Predicted: 1.0\n"
     ]
    }
   ],
   "source": [
    "y_pred_rounded = []\n",
    "error = 0\n",
    "for x in y_pred:\n",
    "    y_pred_rounded.append(np.round(x))\n",
    "for actual, predicted in zip(y_test, y_pred_rounded):\n",
    "    if actual == predicted:\n",
    "        error += 1\n",
    "    print(f\"Actual: {actual}, Predicted: {predicted}\")"
   ],
   "metadata": {
    "collapsed": false,
    "ExecuteTime": {
     "end_time": "2024-08-10T03:53:09.510069Z",
     "start_time": "2024-08-10T03:53:09.503783Z"
    }
   },
   "id": "229c34e34d3bc49d",
   "execution_count": 83
  },
  {
   "cell_type": "code",
   "outputs": [
    {
     "name": "stdout",
     "output_type": "stream",
     "text": [
      "Road Atlanta Accuracy: 66.2%\n"
     ]
    }
   ],
   "source": [
    "print(f'Road Atlanta Accuracy: {round(100 * (error / len(y_test)), 2)}%')"
   ],
   "metadata": {
    "collapsed": false,
    "ExecuteTime": {
     "end_time": "2024-08-10T03:53:09.514674Z",
     "start_time": "2024-08-10T03:53:09.511136Z"
    }
   },
   "id": "77e33a0f7629e1d",
   "execution_count": 84
  },
  {
   "cell_type": "code",
   "outputs": [
    {
     "name": "stdout",
     "output_type": "stream",
     "text": [
      "Position\n",
      "Gap Before Pit\n",
      "Laps Until Front Car Pit\n",
      "Stint\n",
      "Front Car Stint\n",
      "Stint Difference\n"
     ]
    }
   ],
   "source": [
    "for col in X.columns:\n",
    "    print(col)"
   ],
   "metadata": {
    "collapsed": false,
    "ExecuteTime": {
     "end_time": "2024-08-10T03:53:09.520091Z",
     "start_time": "2024-08-10T03:53:09.515725Z"
    }
   },
   "id": "cf0c035dd4d990c0",
   "execution_count": 85
  },
  {
   "cell_type": "code",
   "outputs": [],
   "source": [],
   "metadata": {
    "collapsed": false,
    "ExecuteTime": {
     "end_time": "2024-08-10T03:53:09.523409Z",
     "start_time": "2024-08-10T03:53:09.521095Z"
    }
   },
   "id": "b8ec938fb25c7eda",
   "execution_count": 85
  }
 ],
 "metadata": {
  "kernelspec": {
   "display_name": "Python 3",
   "language": "python",
   "name": "python3"
  },
  "language_info": {
   "codemirror_mode": {
    "name": "ipython",
    "version": 2
   },
   "file_extension": ".py",
   "mimetype": "text/x-python",
   "name": "python",
   "nbconvert_exporter": "python",
   "pygments_lexer": "ipython2",
   "version": "2.7.6"
  }
 },
 "nbformat": 4,
 "nbformat_minor": 5
}
