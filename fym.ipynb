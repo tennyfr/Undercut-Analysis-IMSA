{
 "cells": [
  {
   "cell_type": "code",
   "execution_count": 640,
   "id": "initial_id",
   "metadata": {
    "collapsed": true,
    "ExecuteTime": {
     "end_time": "2024-08-09T23:45:32.281234Z",
     "start_time": "2024-08-09T23:45:32.246054Z"
    }
   },
   "outputs": [
    {
     "data": {
      "text/plain": "   Car Class              Driver  Lap  Lap Time Session Time   Flag Location  \\\n0    1   GTP  Sebastien Bourdais    1  1:14.788     1:14.788  Green    Track   \n1   10   GTP      Louis Deletraz    1  1:16.510     1:16.510  Green    Track   \n2   60   GTP       Tom Blomqvist    1  1:16.768     1:16.768  Green    Track   \n3   24   GTP      Augusto Farfus    1  1:17.446     1:17.446  Green    Track   \n4    6   GTP          Nick Tandy    1  1:17.786     1:17.786  Green    Track   \n\n     S01     S02     S03  \n0  9.272  39.907  25.454  \n1  9.746  41.452  25.311  \n2  9.811  41.265  25.217  \n3  9.792  41.798  25.533  \n4  9.832  41.885  25.445  ",
      "text/html": "<div>\n<style scoped>\n    .dataframe tbody tr th:only-of-type {\n        vertical-align: middle;\n    }\n\n    .dataframe tbody tr th {\n        vertical-align: top;\n    }\n\n    .dataframe thead th {\n        text-align: right;\n    }\n</style>\n<table border=\"1\" class=\"dataframe\">\n  <thead>\n    <tr style=\"text-align: right;\">\n      <th></th>\n      <th>Car</th>\n      <th>Class</th>\n      <th>Driver</th>\n      <th>Lap</th>\n      <th>Lap Time</th>\n      <th>Session Time</th>\n      <th>Flag</th>\n      <th>Location</th>\n      <th>S01</th>\n      <th>S02</th>\n      <th>S03</th>\n    </tr>\n  </thead>\n  <tbody>\n    <tr>\n      <th>0</th>\n      <td>1</td>\n      <td>GTP</td>\n      <td>Sebastien Bourdais</td>\n      <td>1</td>\n      <td>1:14.788</td>\n      <td>1:14.788</td>\n      <td>Green</td>\n      <td>Track</td>\n      <td>9.272</td>\n      <td>39.907</td>\n      <td>25.454</td>\n    </tr>\n    <tr>\n      <th>1</th>\n      <td>10</td>\n      <td>GTP</td>\n      <td>Louis Deletraz</td>\n      <td>1</td>\n      <td>1:16.510</td>\n      <td>1:16.510</td>\n      <td>Green</td>\n      <td>Track</td>\n      <td>9.746</td>\n      <td>41.452</td>\n      <td>25.311</td>\n    </tr>\n    <tr>\n      <th>2</th>\n      <td>60</td>\n      <td>GTP</td>\n      <td>Tom Blomqvist</td>\n      <td>1</td>\n      <td>1:16.768</td>\n      <td>1:16.768</td>\n      <td>Green</td>\n      <td>Track</td>\n      <td>9.811</td>\n      <td>41.265</td>\n      <td>25.217</td>\n    </tr>\n    <tr>\n      <th>3</th>\n      <td>24</td>\n      <td>GTP</td>\n      <td>Augusto Farfus</td>\n      <td>1</td>\n      <td>1:17.446</td>\n      <td>1:17.446</td>\n      <td>Green</td>\n      <td>Track</td>\n      <td>9.792</td>\n      <td>41.798</td>\n      <td>25.533</td>\n    </tr>\n    <tr>\n      <th>4</th>\n      <td>6</td>\n      <td>GTP</td>\n      <td>Nick Tandy</td>\n      <td>1</td>\n      <td>1:17.786</td>\n      <td>1:17.786</td>\n      <td>Green</td>\n      <td>Track</td>\n      <td>9.832</td>\n      <td>41.885</td>\n      <td>25.445</td>\n    </tr>\n  </tbody>\n</table>\n</div>"
     },
     "execution_count": 640,
     "metadata": {},
     "output_type": "execute_result"
    }
   ],
   "source": [
    "import pandas as pd\n",
    "\n",
    "file_path = r'C:\\Users\\lucas\\Downloads\\FYM\\IWSC MRRA Race 23.csv'\n",
    "data = pd.read_csv(file_path)\n",
    "\n",
    "data.head()"
   ]
  },
  {
   "cell_type": "code",
   "outputs": [
    {
     "data": {
      "text/plain": "       Car   Class          Driver  Lap  Lap Time  Session Time    Flag  \\\n17497   57     GTD    Philip Ellis  370   151.190     36138.623  Finish   \n17498   61  GTDPRO    James Calado  370   149.743     36138.921  Finish   \n17499   47     GTD   Antonio Fuoco  364   148.715     36139.606  Finish   \n17500   23     GTD  Alessio Rovera  370   148.675     36140.088  Finish   \n17501   93     GTD   Kyle Marcelli  355   148.994     36141.042  Finish   \n\n      Location     S01     S02     S03  \n17497    Track  22.292  72.573  56.325  \n17498    Track  21.411  72.462  55.870  \n17499    Track  21.905  72.576  54.234  \n17500    Track  21.837  72.641  54.197  \n17501    Track  23.297  71.424  54.273  ",
      "text/html": "<div>\n<style scoped>\n    .dataframe tbody tr th:only-of-type {\n        vertical-align: middle;\n    }\n\n    .dataframe tbody tr th {\n        vertical-align: top;\n    }\n\n    .dataframe thead th {\n        text-align: right;\n    }\n</style>\n<table border=\"1\" class=\"dataframe\">\n  <thead>\n    <tr style=\"text-align: right;\">\n      <th></th>\n      <th>Car</th>\n      <th>Class</th>\n      <th>Driver</th>\n      <th>Lap</th>\n      <th>Lap Time</th>\n      <th>Session Time</th>\n      <th>Flag</th>\n      <th>Location</th>\n      <th>S01</th>\n      <th>S02</th>\n      <th>S03</th>\n    </tr>\n  </thead>\n  <tbody>\n    <tr>\n      <th>17497</th>\n      <td>57</td>\n      <td>GTD</td>\n      <td>Philip Ellis</td>\n      <td>370</td>\n      <td>151.190</td>\n      <td>36138.623</td>\n      <td>Finish</td>\n      <td>Track</td>\n      <td>22.292</td>\n      <td>72.573</td>\n      <td>56.325</td>\n    </tr>\n    <tr>\n      <th>17498</th>\n      <td>61</td>\n      <td>GTDPRO</td>\n      <td>James Calado</td>\n      <td>370</td>\n      <td>149.743</td>\n      <td>36138.921</td>\n      <td>Finish</td>\n      <td>Track</td>\n      <td>21.411</td>\n      <td>72.462</td>\n      <td>55.870</td>\n    </tr>\n    <tr>\n      <th>17499</th>\n      <td>47</td>\n      <td>GTD</td>\n      <td>Antonio Fuoco</td>\n      <td>364</td>\n      <td>148.715</td>\n      <td>36139.606</td>\n      <td>Finish</td>\n      <td>Track</td>\n      <td>21.905</td>\n      <td>72.576</td>\n      <td>54.234</td>\n    </tr>\n    <tr>\n      <th>17500</th>\n      <td>23</td>\n      <td>GTD</td>\n      <td>Alessio Rovera</td>\n      <td>370</td>\n      <td>148.675</td>\n      <td>36140.088</td>\n      <td>Finish</td>\n      <td>Track</td>\n      <td>21.837</td>\n      <td>72.641</td>\n      <td>54.197</td>\n    </tr>\n    <tr>\n      <th>17501</th>\n      <td>93</td>\n      <td>GTD</td>\n      <td>Kyle Marcelli</td>\n      <td>355</td>\n      <td>148.994</td>\n      <td>36141.042</td>\n      <td>Finish</td>\n      <td>Track</td>\n      <td>23.297</td>\n      <td>71.424</td>\n      <td>54.273</td>\n    </tr>\n  </tbody>\n</table>\n</div>"
     },
     "execution_count": 641,
     "metadata": {},
     "output_type": "execute_result"
    }
   ],
   "source": [
    "from datetime import timedelta\n",
    "def time_to_timedelta(time_str):\n",
    "    try:\n",
    "        parts = list(map(float, time_str.split(':')))\n",
    "        \n",
    "        if len(parts) == 2:\n",
    "            minutes, seconds = parts\n",
    "            hours = 0\n",
    "        elif len(parts) == 3:\n",
    "            hours, minutes, seconds = parts\n",
    "        else:\n",
    "            raise ValueError(\"Incorrect time format\")\n",
    "        \n",
    "        return seconds + minutes * 60 + hours * 3600\n",
    "    except ValueError as e:\n",
    "        print(f\"Error converting time: {e}\")\n",
    "        return pd.NaT \n",
    "data['Lap Time'] = data['Lap Time'].apply(time_to_timedelta)\n",
    "data['Session Time'] = data['Session Time'].apply(time_to_timedelta)\n",
    "\n",
    "data.tail()"
   ],
   "metadata": {
    "collapsed": false,
    "ExecuteTime": {
     "end_time": "2024-08-09T23:45:32.313104Z",
     "start_time": "2024-08-09T23:45:32.282238Z"
    }
   },
   "id": "9ea49119e22783a9",
   "execution_count": 641
  },
  {
   "cell_type": "code",
   "outputs": [
    {
     "data": {
      "text/plain": "    Car Class         Driver  Lap  Lap Time  Session Time   Flag Location  \\\n23   27   GTD      Ian James    1   114.120       114.120  Green    Track   \n25   83   GTD    Doriane Pin    1   114.733       114.733  Green    Track   \n26   12   GTD   Aaron Telitz    1   114.892       114.892  Green    Track   \n28   97   GTD  Bill Auberlen    1   116.056       116.056  Green    Track   \n31   57   GTD   Philip Ellis    1   117.583       117.583  Green    Track   \n\n       S01     S02     S03  \n23  10.632  44.303  28.732  \n25  10.811  44.356  28.796  \n26  10.823  44.626  28.599  \n28  10.753  45.487  28.665  \n31  11.114  46.124  28.871  ",
      "text/html": "<div>\n<style scoped>\n    .dataframe tbody tr th:only-of-type {\n        vertical-align: middle;\n    }\n\n    .dataframe tbody tr th {\n        vertical-align: top;\n    }\n\n    .dataframe thead th {\n        text-align: right;\n    }\n</style>\n<table border=\"1\" class=\"dataframe\">\n  <thead>\n    <tr style=\"text-align: right;\">\n      <th></th>\n      <th>Car</th>\n      <th>Class</th>\n      <th>Driver</th>\n      <th>Lap</th>\n      <th>Lap Time</th>\n      <th>Session Time</th>\n      <th>Flag</th>\n      <th>Location</th>\n      <th>S01</th>\n      <th>S02</th>\n      <th>S03</th>\n    </tr>\n  </thead>\n  <tbody>\n    <tr>\n      <th>23</th>\n      <td>27</td>\n      <td>GTD</td>\n      <td>Ian James</td>\n      <td>1</td>\n      <td>114.120</td>\n      <td>114.120</td>\n      <td>Green</td>\n      <td>Track</td>\n      <td>10.632</td>\n      <td>44.303</td>\n      <td>28.732</td>\n    </tr>\n    <tr>\n      <th>25</th>\n      <td>83</td>\n      <td>GTD</td>\n      <td>Doriane Pin</td>\n      <td>1</td>\n      <td>114.733</td>\n      <td>114.733</td>\n      <td>Green</td>\n      <td>Track</td>\n      <td>10.811</td>\n      <td>44.356</td>\n      <td>28.796</td>\n    </tr>\n    <tr>\n      <th>26</th>\n      <td>12</td>\n      <td>GTD</td>\n      <td>Aaron Telitz</td>\n      <td>1</td>\n      <td>114.892</td>\n      <td>114.892</td>\n      <td>Green</td>\n      <td>Track</td>\n      <td>10.823</td>\n      <td>44.626</td>\n      <td>28.599</td>\n    </tr>\n    <tr>\n      <th>28</th>\n      <td>97</td>\n      <td>GTD</td>\n      <td>Bill Auberlen</td>\n      <td>1</td>\n      <td>116.056</td>\n      <td>116.056</td>\n      <td>Green</td>\n      <td>Track</td>\n      <td>10.753</td>\n      <td>45.487</td>\n      <td>28.665</td>\n    </tr>\n    <tr>\n      <th>31</th>\n      <td>57</td>\n      <td>GTD</td>\n      <td>Philip Ellis</td>\n      <td>1</td>\n      <td>117.583</td>\n      <td>117.583</td>\n      <td>Green</td>\n      <td>Track</td>\n      <td>11.114</td>\n      <td>46.124</td>\n      <td>28.871</td>\n    </tr>\n  </tbody>\n</table>\n</div>"
     },
     "execution_count": 642,
     "metadata": {},
     "output_type": "execute_result"
    }
   ],
   "source": [
    "gtd_gtd_pro_data = data[data['Class'].isin(['GTD', 'GTD Pro'])]\n",
    "\n",
    "gtd_gtd_pro_data.head()"
   ],
   "metadata": {
    "collapsed": false,
    "ExecuteTime": {
     "end_time": "2024-08-09T23:45:32.322749Z",
     "start_time": "2024-08-09T23:45:32.314025Z"
    }
   },
   "id": "e5fd061efbfc5fc4",
   "execution_count": 642
  },
  {
   "cell_type": "code",
   "outputs": [
    {
     "name": "stderr",
     "output_type": "stream",
     "text": [
      "C:\\Users\\lucas\\AppData\\Local\\Temp\\ipykernel_28080\\2619816431.py:2: SettingWithCopyWarning: \n",
      "A value is trying to be set on a copy of a slice from a DataFrame.\n",
      "Try using .loc[row_indexer,col_indexer] = value instead\n",
      "\n",
      "See the caveats in the documentation: https://pandas.pydata.org/pandas-docs/stable/user_guide/indexing.html#returning-a-view-versus-a-copy\n",
      "  gtd_gtd_pro_data['position'] = 0\n"
     ]
    },
    {
     "data": {
      "text/plain": "    Car Class         Driver  Lap  Lap Time  Session Time   Flag Location  \\\n23   27   GTD      Ian James    1   114.120       114.120  Green    Track   \n25   83   GTD    Doriane Pin    1   114.733       114.733  Green    Track   \n26   12   GTD   Aaron Telitz    1   114.892       114.892  Green    Track   \n28   97   GTD  Bill Auberlen    1   116.056       116.056  Green    Track   \n31   57   GTD   Philip Ellis    1   117.583       117.583  Green    Track   \n\n       S01     S02     S03  position  \n23  10.632  44.303  28.732         1  \n25  10.811  44.356  28.796         2  \n26  10.823  44.626  28.599         3  \n28  10.753  45.487  28.665         4  \n31  11.114  46.124  28.871         5  ",
      "text/html": "<div>\n<style scoped>\n    .dataframe tbody tr th:only-of-type {\n        vertical-align: middle;\n    }\n\n    .dataframe tbody tr th {\n        vertical-align: top;\n    }\n\n    .dataframe thead th {\n        text-align: right;\n    }\n</style>\n<table border=\"1\" class=\"dataframe\">\n  <thead>\n    <tr style=\"text-align: right;\">\n      <th></th>\n      <th>Car</th>\n      <th>Class</th>\n      <th>Driver</th>\n      <th>Lap</th>\n      <th>Lap Time</th>\n      <th>Session Time</th>\n      <th>Flag</th>\n      <th>Location</th>\n      <th>S01</th>\n      <th>S02</th>\n      <th>S03</th>\n      <th>position</th>\n    </tr>\n  </thead>\n  <tbody>\n    <tr>\n      <th>23</th>\n      <td>27</td>\n      <td>GTD</td>\n      <td>Ian James</td>\n      <td>1</td>\n      <td>114.120</td>\n      <td>114.120</td>\n      <td>Green</td>\n      <td>Track</td>\n      <td>10.632</td>\n      <td>44.303</td>\n      <td>28.732</td>\n      <td>1</td>\n    </tr>\n    <tr>\n      <th>25</th>\n      <td>83</td>\n      <td>GTD</td>\n      <td>Doriane Pin</td>\n      <td>1</td>\n      <td>114.733</td>\n      <td>114.733</td>\n      <td>Green</td>\n      <td>Track</td>\n      <td>10.811</td>\n      <td>44.356</td>\n      <td>28.796</td>\n      <td>2</td>\n    </tr>\n    <tr>\n      <th>26</th>\n      <td>12</td>\n      <td>GTD</td>\n      <td>Aaron Telitz</td>\n      <td>1</td>\n      <td>114.892</td>\n      <td>114.892</td>\n      <td>Green</td>\n      <td>Track</td>\n      <td>10.823</td>\n      <td>44.626</td>\n      <td>28.599</td>\n      <td>3</td>\n    </tr>\n    <tr>\n      <th>28</th>\n      <td>97</td>\n      <td>GTD</td>\n      <td>Bill Auberlen</td>\n      <td>1</td>\n      <td>116.056</td>\n      <td>116.056</td>\n      <td>Green</td>\n      <td>Track</td>\n      <td>10.753</td>\n      <td>45.487</td>\n      <td>28.665</td>\n      <td>4</td>\n    </tr>\n    <tr>\n      <th>31</th>\n      <td>57</td>\n      <td>GTD</td>\n      <td>Philip Ellis</td>\n      <td>1</td>\n      <td>117.583</td>\n      <td>117.583</td>\n      <td>Green</td>\n      <td>Track</td>\n      <td>11.114</td>\n      <td>46.124</td>\n      <td>28.871</td>\n      <td>5</td>\n    </tr>\n  </tbody>\n</table>\n</div>"
     },
     "execution_count": 643,
     "metadata": {},
     "output_type": "execute_result"
    }
   ],
   "source": [
    "# Add a column to record positions\n",
    "gtd_gtd_pro_data['position'] = 0\n",
    "\n",
    "# Function to update positions for each lap\n",
    "def update_positions(df):\n",
    "    for lap in df['Lap'].unique():\n",
    "        lap_data = df[df['Lap'] == lap]\n",
    "        for car_class in lap_data['Class'].unique():\n",
    "            class_data = lap_data[lap_data['Class'] == car_class]\n",
    "            class_data = class_data.sort_values(by='Session Time').reset_index(drop=True)\n",
    "            for idx in range(len(class_data)):\n",
    "                df.loc[(df['Car'] == class_data.loc[idx, 'Car']) & (df['Lap'] == lap), 'position'] = idx + 1\n",
    "    return df\n",
    "\n",
    "# Update the positions in the dataset\n",
    "gtd_gtd_pro_data = update_positions(gtd_gtd_pro_data)\n",
    "gtd_gtd_pro_data.head()"
   ],
   "metadata": {
    "collapsed": false,
    "ExecuteTime": {
     "end_time": "2024-08-09T23:45:34.015525Z",
     "start_time": "2024-08-09T23:45:32.325494Z"
    }
   },
   "id": "b30fa2106c727fdc",
   "execution_count": 643
  },
  {
   "cell_type": "code",
   "outputs": [
    {
     "data": {
      "text/plain": "     Car Class         Driver  Lap  Lap Time  Session Time   Flag Location  \\\n23    27   GTD      Ian James    1   114.120       114.120  Green    Track   \n25    83   GTD    Doriane Pin    1   114.733       114.733  Green    Track   \n26    12   GTD   Aaron Telitz    1   114.892       114.892  Green    Track   \n28    97   GTD  Bill Auberlen    1   116.056       116.056  Green    Track   \n31    57   GTD   Philip Ellis    1   117.583       117.583  Green    Track   \n..   ...   ...            ...  ...       ...           ...    ...      ...   \n273   27   GTD      Ian James    6   125.426       811.605  Green    Track   \n275   83   GTD    Doriane Pin    6   124.103       811.913  Green    Track   \n276   12   GTD   Aaron Telitz    6   120.340       812.212  Green    Track   \n278   97   GTD  Bill Auberlen    6   119.678       812.888  Green    Track   \n281   57   GTD   Philip Ellis    6   115.803       814.092  Green    Track   \n\n        S01     S02     S03  position  Gap to Car in Front (s)  \n23   10.632  44.303  28.732         1                    0.000  \n25   10.811  44.356  28.796         2                    0.613  \n26   10.823  44.626  28.599         3                    0.159  \n28   10.753  45.487  28.665         4                    1.164  \n31   11.114  46.124  28.871         5                    1.527  \n..      ...     ...     ...       ...                      ...  \n273  22.974  63.678  38.774         1                    0.000  \n275  22.609  63.123  38.371         2                    0.308  \n276  20.894  61.280  38.166         3                    0.299  \n278  21.135  60.880  37.663         4                    0.676  \n281  21.329  58.614  35.860         5                    1.204  \n\n[100 rows x 13 columns]",
      "text/html": "<div>\n<style scoped>\n    .dataframe tbody tr th:only-of-type {\n        vertical-align: middle;\n    }\n\n    .dataframe tbody tr th {\n        vertical-align: top;\n    }\n\n    .dataframe thead th {\n        text-align: right;\n    }\n</style>\n<table border=\"1\" class=\"dataframe\">\n  <thead>\n    <tr style=\"text-align: right;\">\n      <th></th>\n      <th>Car</th>\n      <th>Class</th>\n      <th>Driver</th>\n      <th>Lap</th>\n      <th>Lap Time</th>\n      <th>Session Time</th>\n      <th>Flag</th>\n      <th>Location</th>\n      <th>S01</th>\n      <th>S02</th>\n      <th>S03</th>\n      <th>position</th>\n      <th>Gap to Car in Front (s)</th>\n    </tr>\n  </thead>\n  <tbody>\n    <tr>\n      <th>23</th>\n      <td>27</td>\n      <td>GTD</td>\n      <td>Ian James</td>\n      <td>1</td>\n      <td>114.120</td>\n      <td>114.120</td>\n      <td>Green</td>\n      <td>Track</td>\n      <td>10.632</td>\n      <td>44.303</td>\n      <td>28.732</td>\n      <td>1</td>\n      <td>0.000</td>\n    </tr>\n    <tr>\n      <th>25</th>\n      <td>83</td>\n      <td>GTD</td>\n      <td>Doriane Pin</td>\n      <td>1</td>\n      <td>114.733</td>\n      <td>114.733</td>\n      <td>Green</td>\n      <td>Track</td>\n      <td>10.811</td>\n      <td>44.356</td>\n      <td>28.796</td>\n      <td>2</td>\n      <td>0.613</td>\n    </tr>\n    <tr>\n      <th>26</th>\n      <td>12</td>\n      <td>GTD</td>\n      <td>Aaron Telitz</td>\n      <td>1</td>\n      <td>114.892</td>\n      <td>114.892</td>\n      <td>Green</td>\n      <td>Track</td>\n      <td>10.823</td>\n      <td>44.626</td>\n      <td>28.599</td>\n      <td>3</td>\n      <td>0.159</td>\n    </tr>\n    <tr>\n      <th>28</th>\n      <td>97</td>\n      <td>GTD</td>\n      <td>Bill Auberlen</td>\n      <td>1</td>\n      <td>116.056</td>\n      <td>116.056</td>\n      <td>Green</td>\n      <td>Track</td>\n      <td>10.753</td>\n      <td>45.487</td>\n      <td>28.665</td>\n      <td>4</td>\n      <td>1.164</td>\n    </tr>\n    <tr>\n      <th>31</th>\n      <td>57</td>\n      <td>GTD</td>\n      <td>Philip Ellis</td>\n      <td>1</td>\n      <td>117.583</td>\n      <td>117.583</td>\n      <td>Green</td>\n      <td>Track</td>\n      <td>11.114</td>\n      <td>46.124</td>\n      <td>28.871</td>\n      <td>5</td>\n      <td>1.527</td>\n    </tr>\n    <tr>\n      <th>...</th>\n      <td>...</td>\n      <td>...</td>\n      <td>...</td>\n      <td>...</td>\n      <td>...</td>\n      <td>...</td>\n      <td>...</td>\n      <td>...</td>\n      <td>...</td>\n      <td>...</td>\n      <td>...</td>\n      <td>...</td>\n      <td>...</td>\n    </tr>\n    <tr>\n      <th>273</th>\n      <td>27</td>\n      <td>GTD</td>\n      <td>Ian James</td>\n      <td>6</td>\n      <td>125.426</td>\n      <td>811.605</td>\n      <td>Green</td>\n      <td>Track</td>\n      <td>22.974</td>\n      <td>63.678</td>\n      <td>38.774</td>\n      <td>1</td>\n      <td>0.000</td>\n    </tr>\n    <tr>\n      <th>275</th>\n      <td>83</td>\n      <td>GTD</td>\n      <td>Doriane Pin</td>\n      <td>6</td>\n      <td>124.103</td>\n      <td>811.913</td>\n      <td>Green</td>\n      <td>Track</td>\n      <td>22.609</td>\n      <td>63.123</td>\n      <td>38.371</td>\n      <td>2</td>\n      <td>0.308</td>\n    </tr>\n    <tr>\n      <th>276</th>\n      <td>12</td>\n      <td>GTD</td>\n      <td>Aaron Telitz</td>\n      <td>6</td>\n      <td>120.340</td>\n      <td>812.212</td>\n      <td>Green</td>\n      <td>Track</td>\n      <td>20.894</td>\n      <td>61.280</td>\n      <td>38.166</td>\n      <td>3</td>\n      <td>0.299</td>\n    </tr>\n    <tr>\n      <th>278</th>\n      <td>97</td>\n      <td>GTD</td>\n      <td>Bill Auberlen</td>\n      <td>6</td>\n      <td>119.678</td>\n      <td>812.888</td>\n      <td>Green</td>\n      <td>Track</td>\n      <td>21.135</td>\n      <td>60.880</td>\n      <td>37.663</td>\n      <td>4</td>\n      <td>0.676</td>\n    </tr>\n    <tr>\n      <th>281</th>\n      <td>57</td>\n      <td>GTD</td>\n      <td>Philip Ellis</td>\n      <td>6</td>\n      <td>115.803</td>\n      <td>814.092</td>\n      <td>Green</td>\n      <td>Track</td>\n      <td>21.329</td>\n      <td>58.614</td>\n      <td>35.860</td>\n      <td>5</td>\n      <td>1.204</td>\n    </tr>\n  </tbody>\n</table>\n<p>100 rows × 13 columns</p>\n</div>"
     },
     "execution_count": 644,
     "metadata": {},
     "output_type": "execute_result"
    }
   ],
   "source": [
    "df = gtd_gtd_pro_data.sort_values(by=['Lap', 'Session Time'])\n",
    "\n",
    "# Calculate the gap to the car right in front\n",
    "df['Gap to Car in Front (s)'] = df.groupby('Lap')['Session Time'].diff().fillna(0)\n",
    "\n",
    "df.head(100)"
   ],
   "metadata": {
    "collapsed": false,
    "ExecuteTime": {
     "end_time": "2024-08-09T23:45:34.027697Z",
     "start_time": "2024-08-09T23:45:34.016043Z"
    }
   },
   "id": "c30bc4a7bc57f191",
   "execution_count": 644
  },
  {
   "cell_type": "code",
   "outputs": [
    {
     "name": "stderr",
     "output_type": "stream",
     "text": [
      "C:\\Users\\lucas\\AppData\\Local\\Temp\\ipykernel_28080\\274807443.py:22: DeprecationWarning: DataFrameGroupBy.apply operated on the grouping columns. This behavior is deprecated, and in a future version of pandas the grouping columns will be excluded from the operation. Either pass `include_groups=False` to exclude the groupings or explicitly select the grouping columns after groupby to silence this warning.\n",
      "  df['Stint Length'] = df.groupby('Car').apply(calculate_stint_length).reset_index(level=0, drop=True)\n"
     ]
    },
    {
     "data": {
      "text/plain": "       Car Class            Driver  Lap  Lap Time  Session Time    Flag  \\\n17189   27   GTD  Roman De Angelis  362    80.971     35085.192   Green   \n17191   92   GTD   Julien Andlauer  362    81.242     35085.909   Green   \n17194   32   GTD    Mikael Grenier  362    81.721     35087.524   Green   \n17195   97   GTD     Bill Auberlen  362    81.764     35088.136   Green   \n17197   57   GTD      Philip Ellis  362    81.135     35089.561   Green   \n...    ...   ...               ...  ...       ...           ...     ...   \n17492   32   GTD    Mikael Grenier  370   152.804     36134.688  Finish   \n17493   97   GTD     Bill Auberlen  370   153.021     36135.607  Finish   \n17495   80   GTD       Seb Priaulx  370   152.410     36137.520  Finish   \n17497   57   GTD      Philip Ellis  370   151.190     36138.623  Finish   \n17500   23   GTD    Alessio Rovera  370   148.675     36140.088  Finish   \n\n      Location     S01     S02     S03  position  Gap to Car in Front (s)  \\\n17189    Track   9.701  42.985  28.285         6                    2.227   \n17191    Track   9.656  43.027  28.559         7                    0.717   \n17194    Track   9.758  42.927  29.036         8                    1.615   \n17195    Track   9.672  43.664  28.428         9                    0.612   \n17197    Track   9.930  43.093  28.112        10                    1.425   \n...        ...     ...     ...     ...       ...                      ...   \n17492    Track  22.458  72.718  57.628         6                    0.872   \n17493    Track  22.610  72.908  57.503         7                    0.919   \n17495    Track  22.670  72.771  56.969         8                    1.913   \n17497    Track  22.292  72.573  56.325         9                    1.103   \n17500    Track  21.837  72.641  54.197        10                    1.465   \n\n       Adjusted Lap  Stint Length  \n17189         319.5          26.0  \n17191         318.0          25.5  \n17194         320.0          26.0  \n17195         319.5          26.0  \n17197         321.0          13.0  \n...             ...           ...  \n17492         325.5          31.0  \n17493         325.0          31.0  \n17495         325.0          31.0  \n17497         326.0          17.5  \n17500         324.0          22.5  \n\n[100 rows x 15 columns]",
      "text/html": "<div>\n<style scoped>\n    .dataframe tbody tr th:only-of-type {\n        vertical-align: middle;\n    }\n\n    .dataframe tbody tr th {\n        vertical-align: top;\n    }\n\n    .dataframe thead th {\n        text-align: right;\n    }\n</style>\n<table border=\"1\" class=\"dataframe\">\n  <thead>\n    <tr style=\"text-align: right;\">\n      <th></th>\n      <th>Car</th>\n      <th>Class</th>\n      <th>Driver</th>\n      <th>Lap</th>\n      <th>Lap Time</th>\n      <th>Session Time</th>\n      <th>Flag</th>\n      <th>Location</th>\n      <th>S01</th>\n      <th>S02</th>\n      <th>S03</th>\n      <th>position</th>\n      <th>Gap to Car in Front (s)</th>\n      <th>Adjusted Lap</th>\n      <th>Stint Length</th>\n    </tr>\n  </thead>\n  <tbody>\n    <tr>\n      <th>17189</th>\n      <td>27</td>\n      <td>GTD</td>\n      <td>Roman De Angelis</td>\n      <td>362</td>\n      <td>80.971</td>\n      <td>35085.192</td>\n      <td>Green</td>\n      <td>Track</td>\n      <td>9.701</td>\n      <td>42.985</td>\n      <td>28.285</td>\n      <td>6</td>\n      <td>2.227</td>\n      <td>319.5</td>\n      <td>26.0</td>\n    </tr>\n    <tr>\n      <th>17191</th>\n      <td>92</td>\n      <td>GTD</td>\n      <td>Julien Andlauer</td>\n      <td>362</td>\n      <td>81.242</td>\n      <td>35085.909</td>\n      <td>Green</td>\n      <td>Track</td>\n      <td>9.656</td>\n      <td>43.027</td>\n      <td>28.559</td>\n      <td>7</td>\n      <td>0.717</td>\n      <td>318.0</td>\n      <td>25.5</td>\n    </tr>\n    <tr>\n      <th>17194</th>\n      <td>32</td>\n      <td>GTD</td>\n      <td>Mikael Grenier</td>\n      <td>362</td>\n      <td>81.721</td>\n      <td>35087.524</td>\n      <td>Green</td>\n      <td>Track</td>\n      <td>9.758</td>\n      <td>42.927</td>\n      <td>29.036</td>\n      <td>8</td>\n      <td>1.615</td>\n      <td>320.0</td>\n      <td>26.0</td>\n    </tr>\n    <tr>\n      <th>17195</th>\n      <td>97</td>\n      <td>GTD</td>\n      <td>Bill Auberlen</td>\n      <td>362</td>\n      <td>81.764</td>\n      <td>35088.136</td>\n      <td>Green</td>\n      <td>Track</td>\n      <td>9.672</td>\n      <td>43.664</td>\n      <td>28.428</td>\n      <td>9</td>\n      <td>0.612</td>\n      <td>319.5</td>\n      <td>26.0</td>\n    </tr>\n    <tr>\n      <th>17197</th>\n      <td>57</td>\n      <td>GTD</td>\n      <td>Philip Ellis</td>\n      <td>362</td>\n      <td>81.135</td>\n      <td>35089.561</td>\n      <td>Green</td>\n      <td>Track</td>\n      <td>9.930</td>\n      <td>43.093</td>\n      <td>28.112</td>\n      <td>10</td>\n      <td>1.425</td>\n      <td>321.0</td>\n      <td>13.0</td>\n    </tr>\n    <tr>\n      <th>...</th>\n      <td>...</td>\n      <td>...</td>\n      <td>...</td>\n      <td>...</td>\n      <td>...</td>\n      <td>...</td>\n      <td>...</td>\n      <td>...</td>\n      <td>...</td>\n      <td>...</td>\n      <td>...</td>\n      <td>...</td>\n      <td>...</td>\n      <td>...</td>\n      <td>...</td>\n    </tr>\n    <tr>\n      <th>17492</th>\n      <td>32</td>\n      <td>GTD</td>\n      <td>Mikael Grenier</td>\n      <td>370</td>\n      <td>152.804</td>\n      <td>36134.688</td>\n      <td>Finish</td>\n      <td>Track</td>\n      <td>22.458</td>\n      <td>72.718</td>\n      <td>57.628</td>\n      <td>6</td>\n      <td>0.872</td>\n      <td>325.5</td>\n      <td>31.0</td>\n    </tr>\n    <tr>\n      <th>17493</th>\n      <td>97</td>\n      <td>GTD</td>\n      <td>Bill Auberlen</td>\n      <td>370</td>\n      <td>153.021</td>\n      <td>36135.607</td>\n      <td>Finish</td>\n      <td>Track</td>\n      <td>22.610</td>\n      <td>72.908</td>\n      <td>57.503</td>\n      <td>7</td>\n      <td>0.919</td>\n      <td>325.0</td>\n      <td>31.0</td>\n    </tr>\n    <tr>\n      <th>17495</th>\n      <td>80</td>\n      <td>GTD</td>\n      <td>Seb Priaulx</td>\n      <td>370</td>\n      <td>152.410</td>\n      <td>36137.520</td>\n      <td>Finish</td>\n      <td>Track</td>\n      <td>22.670</td>\n      <td>72.771</td>\n      <td>56.969</td>\n      <td>8</td>\n      <td>1.913</td>\n      <td>325.0</td>\n      <td>31.0</td>\n    </tr>\n    <tr>\n      <th>17497</th>\n      <td>57</td>\n      <td>GTD</td>\n      <td>Philip Ellis</td>\n      <td>370</td>\n      <td>151.190</td>\n      <td>36138.623</td>\n      <td>Finish</td>\n      <td>Track</td>\n      <td>22.292</td>\n      <td>72.573</td>\n      <td>56.325</td>\n      <td>9</td>\n      <td>1.103</td>\n      <td>326.0</td>\n      <td>17.5</td>\n    </tr>\n    <tr>\n      <th>17500</th>\n      <td>23</td>\n      <td>GTD</td>\n      <td>Alessio Rovera</td>\n      <td>370</td>\n      <td>148.675</td>\n      <td>36140.088</td>\n      <td>Finish</td>\n      <td>Track</td>\n      <td>21.837</td>\n      <td>72.641</td>\n      <td>54.197</td>\n      <td>10</td>\n      <td>1.465</td>\n      <td>324.0</td>\n      <td>22.5</td>\n    </tr>\n  </tbody>\n</table>\n<p>100 rows × 15 columns</p>\n</div>"
     },
     "execution_count": 645,
     "metadata": {},
     "output_type": "execute_result"
    }
   ],
   "source": [
    "# Adjusted Lap Calculation\n",
    "df['Adjusted Lap'] = df.apply(lambda x: 0.5 if x['Flag'] == 'Yellow' else 1, axis=1)\n",
    "\n",
    "# Initialize the 'Stint Length' column\n",
    "df['Stint Length'] = 0\n",
    "\n",
    "# Function to calculate the stint length\n",
    "def calculate_stint_length(group):\n",
    "    stint_length = 0\n",
    "    stint_lengths = []\n",
    "    for index, row in group.iterrows():\n",
    "        if row['Location'] == 'Pit':\n",
    "            stint_length = 0\n",
    "        elif row['Flag'] == 'Green':\n",
    "            stint_length += 1\n",
    "        else:\n",
    "            stint_length += 0.5\n",
    "        stint_lengths.append(stint_length)\n",
    "    return pd.Series(stint_lengths, index=group.index)\n",
    "\n",
    "# Apply the calculate_stint_length function and ensure lengths match\n",
    "df['Stint Length'] = df.groupby('Car').apply(calculate_stint_length).reset_index(level=0, drop=True)\n",
    "\n",
    "# Adjusted Lap cumulative sum\n",
    "df['Adjusted Lap'] = df.groupby('Car')['Adjusted Lap'].cumsum()\n",
    "\n",
    "# Display the last few rows of the updated DataFrame\n",
    "df.tail(100)"
   ],
   "metadata": {
    "collapsed": false,
    "ExecuteTime": {
     "end_time": "2024-08-09T23:45:34.158525Z",
     "start_time": "2024-08-09T23:45:34.027697Z"
    }
   },
   "id": "737c600c4572a4f5",
   "execution_count": 645
  },
  {
   "cell_type": "code",
   "outputs": [
    {
     "name": "stdout",
     "output_type": "stream",
     "text": [
      "{'Car 27': 25.0, 'Car 83': 24.7, 'Car 12': 24.4, 'Car 97': 29.5, 'Car 57': 27.2, 'Car 70': 19.5, 'Car 66': 26.3, 'Car 93': 28.2, 'Car 1': 14.0, 'Car 32': 36.2, 'Car 47': 26.4, 'Car 16': 26.9, 'Car 96': 27.1, 'Car 78': 25.0, 'Car 77': 25.0, 'Car 23': 20.2, 'Car 44': 22.0, 'Car 92': 20.2, 'Car 80': 29.5}\n"
     ]
    }
   ],
   "source": [
    "adj_avg_stint_dic = {}\n",
    "def adj_avg_stint(car):\n",
    "    car_df = df[df['Car'] == car]\n",
    "    pits = car_df['Location'].value_counts().get('Pit', 1)\n",
    "    adj_avg_stint_dic[f'Car {car}'] = round(car_df['Adjusted Lap'].max()/pits, 1)\n",
    "\n",
    "for car in df['Car'].unique():\n",
    "    adj_avg_stint(car)\n",
    "print(adj_avg_stint_dic)\n"
   ],
   "metadata": {
    "collapsed": false,
    "ExecuteTime": {
     "end_time": "2024-08-09T23:45:34.174191Z",
     "start_time": "2024-08-09T23:45:34.159116Z"
    }
   },
   "id": "c0d070e242ecca2",
   "execution_count": 646
  },
  {
   "cell_type": "code",
   "outputs": [
    {
     "name": "stdout",
     "output_type": "stream",
     "text": [
      "25.121052631578944\n"
     ]
    }
   ],
   "source": [
    "total = 0\n",
    "for car in adj_avg_stint_dic:\n",
    "    total += adj_avg_stint_dic[car]\n",
    "avg_stint = total/len(adj_avg_stint_dic)\n",
    "print(avg_stint)"
   ],
   "metadata": {
    "collapsed": false,
    "ExecuteTime": {
     "end_time": "2024-08-09T23:45:34.177474Z",
     "start_time": "2024-08-09T23:45:34.174191Z"
    }
   },
   "id": "de70b6b812c82a38",
   "execution_count": 647
  },
  {
   "cell_type": "code",
   "outputs": [
    {
     "data": {
      "text/plain": "    Car  Pit Lap  Stint Length     Gap\n0    27       15          10.0   0.000\n1    27       68          15.5   5.755\n2    27      111          28.5  28.927\n3    27      226          27.5   4.624\n4    27      329          21.5   2.216\n..  ...      ...           ...     ...\n95   80       15          10.0   0.912\n96   80       72          16.5   6.331\n97   80      226          27.5   0.437\n98   80      298          30.0   4.544\n99   80      329          28.5   3.073\n\n[100 rows x 4 columns]",
      "text/html": "<div>\n<style scoped>\n    .dataframe tbody tr th:only-of-type {\n        vertical-align: middle;\n    }\n\n    .dataframe tbody tr th {\n        vertical-align: top;\n    }\n\n    .dataframe thead th {\n        text-align: right;\n    }\n</style>\n<table border=\"1\" class=\"dataframe\">\n  <thead>\n    <tr style=\"text-align: right;\">\n      <th></th>\n      <th>Car</th>\n      <th>Pit Lap</th>\n      <th>Stint Length</th>\n      <th>Gap</th>\n    </tr>\n  </thead>\n  <tbody>\n    <tr>\n      <th>0</th>\n      <td>27</td>\n      <td>15</td>\n      <td>10.0</td>\n      <td>0.000</td>\n    </tr>\n    <tr>\n      <th>1</th>\n      <td>27</td>\n      <td>68</td>\n      <td>15.5</td>\n      <td>5.755</td>\n    </tr>\n    <tr>\n      <th>2</th>\n      <td>27</td>\n      <td>111</td>\n      <td>28.5</td>\n      <td>28.927</td>\n    </tr>\n    <tr>\n      <th>3</th>\n      <td>27</td>\n      <td>226</td>\n      <td>27.5</td>\n      <td>4.624</td>\n    </tr>\n    <tr>\n      <th>4</th>\n      <td>27</td>\n      <td>329</td>\n      <td>21.5</td>\n      <td>2.216</td>\n    </tr>\n    <tr>\n      <th>...</th>\n      <td>...</td>\n      <td>...</td>\n      <td>...</td>\n      <td>...</td>\n    </tr>\n    <tr>\n      <th>95</th>\n      <td>80</td>\n      <td>15</td>\n      <td>10.0</td>\n      <td>0.912</td>\n    </tr>\n    <tr>\n      <th>96</th>\n      <td>80</td>\n      <td>72</td>\n      <td>16.5</td>\n      <td>6.331</td>\n    </tr>\n    <tr>\n      <th>97</th>\n      <td>80</td>\n      <td>226</td>\n      <td>27.5</td>\n      <td>0.437</td>\n    </tr>\n    <tr>\n      <th>98</th>\n      <td>80</td>\n      <td>298</td>\n      <td>30.0</td>\n      <td>4.544</td>\n    </tr>\n    <tr>\n      <th>99</th>\n      <td>80</td>\n      <td>329</td>\n      <td>28.5</td>\n      <td>3.073</td>\n    </tr>\n  </tbody>\n</table>\n<p>100 rows × 4 columns</p>\n</div>"
     },
     "execution_count": 648,
     "metadata": {},
     "output_type": "execute_result"
    }
   ],
   "source": [
    "def identify_early_pitstops(data, car_ids, stint_threshold):\n",
    "    early_pitstops = []\n",
    "    for car_id in car_ids:\n",
    "        car_data = data[data['Car'] == car_id]\n",
    "        pitstops = car_data[car_data['Location'] == 'Pit']\n",
    "        \n",
    "        for idx, pitstop in pitstops.iterrows():\n",
    "            lap = pitstop['Lap']\n",
    "            previous_lap = lap - 1\n",
    "            if previous_lap in car_data['Lap'].values:\n",
    "                stint_length = car_data[car_data['Lap'] == previous_lap]['Stint Length'].values[0]\n",
    "                gap = car_data[car_data['Lap'] == previous_lap][\"Gap to Car in Front (s)\"].values[0]\n",
    "                if 9 < stint_length < stint_threshold:\n",
    "                    early_pitstops.append({\n",
    "                        'Car': car_id,\n",
    "                        'Pit Lap': lap,\n",
    "                        'Stint Length': stint_length,\n",
    "                        'Gap': gap\n",
    "                    })\n",
    "    return pd.DataFrame(early_pitstops)\n",
    "\n",
    "early_pits = identify_early_pitstops(df, df['Car'].unique().tolist(), avg_stint + 5)\n",
    "early_pits.head(100)"
   ],
   "metadata": {
    "collapsed": false,
    "ExecuteTime": {
     "end_time": "2024-08-09T23:45:34.276028Z",
     "start_time": "2024-08-09T23:45:34.177474Z"
    }
   },
   "id": "cd9a79600feedced",
   "execution_count": 648
  },
  {
   "cell_type": "code",
   "outputs": [
    {
     "name": "stdout",
     "output_type": "stream",
     "text": [
      "Car: 27, Position before early pit: 4, Position 5.0 laps later: 1, car in front 14, prior gap 5.7549999999992 Stint: 15.5 front car stint: 17.5\n",
      "Car: 27, Position before early pit: 10, Position 1.0 laps later: 9, car in front 9, prior gap 4.623999999999796 Stint: 27.5 front car stint: 27.5\n",
      "Car: 27, Position before early pit: 7, Position 1.0 laps later: 6, car in front 3, prior gap 2.2160000000003492 Stint: 21.5 front car stint: 28.5\n",
      "Car: 83, Position before early pit: 7, Position 1.0 laps later: 5, car in front 7, prior gap 1.0859999999993306 Stint: 17.5 front car stint: 17.5\n",
      "Car: 12, Position before early pit: 5, Position 1.0 laps later: 3, car in front 4, prior gap 1.9369999999998981 Stint: 17.5 front car stint: 17.5\n",
      "Car: 12, Position before early pit: 5, Position 12.0 laps later: 18, car in front 1, prior gap 3.275999999998021 Stint: 23.5 front car stint: 32.0\n",
      "Car: 97, Position before early pit: 4, Position 36.0 laps later: 6, car in front 3, prior gap 1.1459999999999582 Stint: 10.0 front car stint: 42.0\n",
      "Car: 97, Position before early pit: 3, Position 1.0 laps later: 14, car in front 6, prior gap 1.8729999999995925 Stint: 17.5 front car stint: 17.5\n",
      "Car: 97, Position before early pit: 8, Position 30.0 laps later: 10, car in front 4, prior gap 0.3719999999993888 Stint: 9.5 front car stint: 32.0\n",
      "Car: 97, Position before early pit: 11, Position 1.0 laps later: 10, car in front 1, prior gap 1.5339999999996508 Stint: 25.0 front car stint: 32.0\n",
      "Car: 97, Position before early pit: 7, Position 1.0 laps later: 8, car in front 8, prior gap 0.8410000000003492 Stint: 27.5 front car stint: 27.5\n",
      "Car: 97, Position before early pit: 3, Position 1.0 laps later: 9, car in front 9, prior gap 1.2669999999998254 Stint: 21.5 front car stint: 21.5\n",
      "Car: 57, Position before early pit: 5, Position 1.0 laps later: 6, car in front 7, prior gap 2.8330000000000837 Stint: 10.0 front car stint: 10.0\n",
      "Car: 57, Position before early pit: 2, Position 1.0 laps later: 2, car in front 2, prior gap 1.8620000000009895 Stint: 27.5 front car stint: 27.5\n",
      "Car: 57, Position before early pit: 2, Position 28.0 laps later: 1, car in front 11, prior gap 1.151000000001659 Stint: 17.5 front car stint: 41.0\n",
      "Car: 66, Position before early pit: 7, Position 1.0 laps later: 15, car in front 6, prior gap 2.2480000000000473 Stint: 10.0 front car stint: 10.0\n",
      "Car: 66, Position before early pit: 13, Position 4.0 laps later: 16, car in front 13, prior gap 8.081999999999425 Stint: 28.0 front car stint: 32.0\n",
      "Car: 66, Position before early pit: 9, Position 1.0 laps later: 10, car in front 10, prior gap 1.224000000001979 Stint: 27.5 front car stint: 27.5\n",
      "Car: 66, Position before early pit: 7, Position 1.0 laps later: 9, car in front 9, prior gap 6.201000000000931 Stint: 17.5 front car stint: 17.5\n",
      "Car: 66, Position before early pit: 8, Position 6.0 laps later: 11, car in front 6, prior gap 0.6630000000004657 Stint: 17.0 front car stint: 22.0\n",
      "Car: 1, Position before early pit: 8, Position 1.0 laps later: 10, car in front 16, prior gap 0.44699999999988904 Stint: 10.0 front car stint: 10.0\n",
      "Car: 32, Position before early pit: 2, Position 1.0 laps later: 6, car in front 2, prior gap 6.932999999999993 Stint: 17.5 front car stint: 18.0\n",
      "Car: 32, Position before early pit: 3, Position 1.0 laps later: 3, car in front 3, prior gap 5.485999999997148 Stint: 27.5 front car stint: 27.5\n",
      "Car: 32, Position before early pit: 10, Position 1.0 laps later: 7, car in front 11, prior gap 2.805000000000291 Stint: 15.0 front car stint: 41.5\n",
      "Car: 47, Position before early pit: 13, Position 1.0 laps later: 13, car in front 13, prior gap 2.5950000000002547 Stint: 16.5 front car stint: 16.5\n",
      "Car: 16, Position before early pit: 10, Position 1.0 laps later: 8, car in front 10, prior gap 2.3680000000001655 Stint: 10.0 front car stint: 10.0\n",
      "Car: 16, Position before early pit: 12, Position 5.0 laps later: 11, car in front 16, prior gap 1.3179999999993015 Stint: 16.5 front car stint: 3.5\n",
      "Car: 16, Position before early pit: 3, Position 1.0 laps later: 5, car in front 6, prior gap 7.360999999997148 Stint: 11.5 front car stint: 17.5\n",
      "Car: 16, Position before early pit: 2, Position 2.0 laps later: 6, car in front 11, prior gap 1.6130000000011933 Stint: 24.0 front car stint: 41.0\n",
      "Car: 16, Position before early pit: 4, Position 1.0 laps later: 2, car in front 4, prior gap 2.1239999999997963 Stint: 16.5 front car stint: 24.5\n",
      "Car: 96, Position before early pit: 13, Position 1.0 laps later: 13, car in front 13, prior gap 0.7010000000000218 Stint: 10.0 front car stint: 10.0\n",
      "Car: 96, Position before early pit: 6, Position 1.0 laps later: 7, car in front 3, prior gap 0.6290000000008149 Stint: 17.5 front car stint: 17.5\n",
      "Car: 96, Position before early pit: 8, Position 1.0 laps later: 7, car in front 7, prior gap 5.0349999999998545 Stint: 27.5 front car stint: 27.5\n",
      "Car: 96, Position before early pit: 9, Position 25.0 laps later: 6, car in front 11, prior gap 3.5940000000009604 Stint: 14.0 front car stint: 38.0\n",
      "Car: 96, Position before early pit: 7, Position 3.0 laps later: 8, car in front 9, prior gap 1.1970000000001164 Stint: 16.0 front car stint: 18.0\n",
      "Car: 96, Position before early pit: 5, Position 1.0 laps later: 4, car in front 5, prior gap 1.0750000000007276 Stint: 24.5 front car stint: 22.5\n",
      "Car: 78, Position before early pit: 4, Position 1.0 laps later: 4, car in front 14, prior gap 2.706000000000131 Stint: 17.5 front car stint: 17.5\n",
      "Car: 78, Position before early pit: 8, Position 41.0 laps later: 4, car in front 2, prior gap 0.3389999999999418 Stint: 26.0 front car stint: 33.0\n",
      "Car: 78, Position before early pit: 4, Position 1.0 laps later: 4, car in front 4, prior gap 3.106999999999971 Stint: 27.5 front car stint: 27.5\n",
      "Car: 78, Position before early pit: 4, Position 18.0 laps later: 2, car in front 9, prior gap 1.9140000000006694 Stint: 22.0 front car stint: 39.0\n",
      "Car: 78, Position before early pit: 2, Position 1.0 laps later: 1, car in front 1, prior gap 8.284999999999854 Stint: 18.5 front car stint: 18.5\n",
      "Car: 77, Position before early pit: 12, Position 1.0 laps later: 9, car in front 9, prior gap 0.7470000000000709 Stint: 10.0 front car stint: 10.0\n",
      "Car: 77, Position before early pit: 8, Position 1.0 laps later: 8, car in front 5, prior gap 2.7669999999998254 Stint: 17.5 front car stint: 17.5\n",
      "Car: 77, Position before early pit: 9, Position 1.0 laps later: 8, car in front 8, prior gap 0.9989999999997963 Stint: 29.5 front car stint: 29.5\n",
      "Car: 77, Position before early pit: 6, Position 1.0 laps later: 6, car in front 6, prior gap 6.298999999999069 Stint: 27.5 front car stint: 27.5\n",
      "Car: 77, Position before early pit: 7, Position 19.0 laps later: 4, car in front 11, prior gap 0.569999999999709 Stint: 20.0 front car stint: 38.0\n",
      "Car: 77, Position before early pit: 8, Position 1.0 laps later: 7, car in front 7, prior gap 0.7710000000006403 Stint: 9.5 front car stint: 9.5\n",
      "Car: 77, Position before early pit: 6, Position 22.0 laps later: 6, car in front 9, prior gap 1.5639999999984866 Stint: 18.0 front car stint: 39.0\n",
      "Car: 77, Position before early pit: 6, Position 1.0 laps later: 5, car in front 6, prior gap 1.018000000000029 Stint: 22.5 front car stint: 21.5\n",
      "Car: 23, Position before early pit: 14, Position 1.0 laps later: 14, car in front 12, prior gap 1.06899999999996 Stint: 10.0 front car stint: 10.0\n",
      "Car: 23, Position before early pit: 16, Position 1.0 laps later: 16, car in front 15, prior gap 2.037000000000262 Stint: 17.5 front car stint: 19.0\n",
      "Car: 23, Position before early pit: 12, Position 1.0 laps later: 12, car in front 11, prior gap 2.235000000000582 Stint: 27.5 front car stint: 27.5\n",
      "Car: 23, Position before early pit: 9, Position 1.0 laps later: 11, car in front 5, prior gap 5.172999999998865 Stint: 11.5 front car stint: 11.5\n",
      "Car: 23, Position before early pit: 10, Position 4.0 laps later: 8, car in front 11, prior gap 1.047999999998865 Stint: 14.0 front car stint: 17.0\n",
      "Car: 44, Position before early pit: 15, Position 1.0 laps later: 11, car in front 17, prior gap 0.7380000000000564 Stint: 10.0 front car stint: 10.0\n",
      "Car: 44, Position before early pit: 11, Position 11.0 laps later: 13, car in front 10, prior gap 2.130000000000109 Stint: 23.5 front car stint: 31.5\n",
      "Car: 44, Position before early pit: 10, Position 1.0 laps later: 11, car in front 9, prior gap 1.0850000000000364 Stint: 16.5 front car stint: 16.5\n",
      "Car: 44, Position before early pit: 10, Position 1.0 laps later: 11, car in front 10, prior gap 7.1009999999987485 Stint: 27.0 front car stint: 25.0\n",
      "Car: 44, Position before early pit: 11, Position 1.0 laps later: 11, car in front 1, prior gap 2.6819999999970605 Stint: 27.5 front car stint: 27.5\n",
      "Car: 44, Position before early pit: 10, Position 1.0 laps later: 12, car in front 9, prior gap 3.030000000002474 Stint: 20.0 front car stint: 20.0\n",
      "Car: 92, Position before early pit: 17, Position 1.0 laps later: 17, car in front 11, prior gap 0.7970000000000255 Stint: 10.0 front car stint: 10.0\n",
      "Car: 92, Position before early pit: 11, Position 1.0 laps later: 10, car in front 10, prior gap 0.6220000000002983 Stint: 16.0 front car stint: 16.0\n",
      "Car: 80, Position before early pit: 16, Position 1.0 laps later: 12, car in front 8, prior gap 0.9120000000000346 Stint: 10.0 front car stint: 10.0\n",
      "Car: 80, Position before early pit: 9, Position 1.0 laps later: 9, car in front 8, prior gap 6.331000000000131 Stint: 16.5 front car stint: 17.5\n",
      "Car: 80, Position before early pit: 5, Position 1.0 laps later: 5, car in front 5, prior gap 0.4370000000017171 Stint: 27.5 front car stint: 27.5\n",
      "Car: 80, Position before early pit: 3, Position 8.0 laps later: 10, car in front 7, prior gap 4.54399999999805 Stint: 30.0 front car stint: 33.0\n",
      "Car: 80, Position before early pit: 8, Position 1.0 laps later: 3, car in front 8, prior gap 3.07300000000032 Stint: 28.5 front car stint: 1.5\n",
      "Net Gain: 41 No Gain: 26\n",
      "Net Gain Green: 7 No Gain Green: 3\n"
     ]
    }
   ],
   "source": [
    "passed = 0\n",
    "passed_y = 0\n",
    "np = 0\n",
    "np_y = 0\n",
    "\n",
    "car_list = []\n",
    "position_list = []\n",
    "lap_list = []\n",
    "gap_before_pit_list = []\n",
    "laps_until_front_car_pit_list = []\n",
    "stint_list = []\n",
    "front_car_stint_list = []\n",
    "pass_bin = []\n",
    "\n",
    "# Iterate over each row in early_pits\n",
    "for _, row in early_pits.iterrows():\n",
    "    try:\n",
    "        car = row['Car']\n",
    "        lap = row['Pit Lap']\n",
    "        pre = df[(df['Car'] == car) & (df['Lap'] == lap - 1)]['position'].values[0]\n",
    "        if pre != 1:\n",
    "            front_pre = df[(df['position'] == pre - 1) & (df['Lap'] == lap)]['Car'].values[0]\n",
    "            front_pit = df[(df['Car'] == front_pre) & (df['Location'] == 'Pit') & (df['Lap'] >= lap)]['Lap'].values[0]\n",
    "            post = df[(df['Car'] == car) & (df['Lap'] == front_pit + 1)]['position'].values[0]\n",
    "            front_post = df[(df['Car'] == front_pre) & (df['Lap'] == front_pit + 1)]['position'].values[0]\n",
    "            gap = df[(df['Car'] == car) & (df['Lap'] == lap - 1)]['Gap to Car in Front (s)'].values[0]\n",
    "            stint = df[(df['Car'] == car) & (df['Lap'] == lap - 1)]['Stint Length'].values[0]\n",
    "            front_stint = df[(df['Car'] == front_pre) & (df['Lap'] == front_pit - 1)]['Stint Length'].values[0]\n",
    "\n",
    "            if gap < 10:\n",
    "                print(f\"Car: {int(car)}, Position before early pit: {pre}, Position {front_pit - lap + 1} laps later: {post}, car in front {front_post}, prior gap {gap} Stint: {stint} front car stint: {front_stint}\")\n",
    "                car_list.append(car)\n",
    "                position_list.append(pre)\n",
    "                lap_list.append(lap)\n",
    "                gap_before_pit_list.append(gap)\n",
    "                laps_until_front_car_pit_list.append(front_pit - lap)\n",
    "                stint_list.append(stint)\n",
    "                front_car_stint_list.append(front_stint)\n",
    "                if post <= front_post:\n",
    "                    passed += 1\n",
    "                    if df[(df['Car'] == front_pre) & (df['Lap'] == front_pit + 1)]['Flag'].values[0] == 'Yellow':\n",
    "                        passed_y += 1\n",
    "                    pass_bin.append(1)\n",
    "                else:\n",
    "                    np += 1\n",
    "                    if df[(df['Car'] == front_pre) & (df['Lap'] == front_pit + 1)]['Flag'].values[0] == 'Yellow':\n",
    "                        np_y += 1\n",
    "                    pass_bin.append(0)\n",
    "    except:\n",
    "        pass\n",
    "\n",
    "# Create a DataFrame from the collected lists\n",
    "results_df = pd.DataFrame({\n",
    "    'Year': 2023,\n",
    "    'Car': car_list,\n",
    "    'Position': position_list,\n",
    "    'Lap': lap_list,\n",
    "    'Gap Before Pit': gap_before_pit_list,\n",
    "    'Laps Until Front Car Pit': laps_until_front_car_pit_list,\n",
    "    'Stint': stint_list,\n",
    "    'Front Car Stint': front_car_stint_list,\n",
    "    'Passed': pass_bin\n",
    "})\n",
    "\n",
    "# Print results and summary\n",
    "print(f'Net Gain: {passed} No Gain: {np}')\n",
    "print(f'Net Gain Green: {passed - passed_y} No Gain Green: {np - np_y}')\n"
   ],
   "metadata": {
    "collapsed": false,
    "ExecuteTime": {
     "end_time": "2024-08-09T23:45:34.520407Z",
     "start_time": "2024-08-09T23:45:34.277032Z"
    }
   },
   "id": "3c47b71597a7c6d4",
   "execution_count": 649
  },
  {
   "cell_type": "code",
   "outputs": [
    {
     "data": {
      "text/plain": "    Year   Car  Position    Lap  Gap Before Pit  Laps Until Front Car Pit  \\\n0   2023  27.0         4   68.0           5.755                       4.0   \n1   2023  27.0        10  226.0           4.624                       0.0   \n2   2023  27.0         7  329.0           2.216                       0.0   \n3   2023  83.0         7   72.0           1.086                       0.0   \n4   2023  12.0         5   72.0           1.937                       0.0   \n..   ...   ...       ...    ...             ...                       ...   \n62  2023  80.0        16   15.0           0.912                       0.0   \n63  2023  80.0         9   72.0           6.331                       0.0   \n64  2023  80.0         5  226.0           0.437                       0.0   \n65  2023  80.0         3  298.0           4.544                       7.0   \n66  2023  80.0         8  329.0           3.073                       0.0   \n\n    Stint  Front Car Stint  Passed  \n0    15.5             17.5       1  \n1    27.5             27.5       1  \n2    21.5             28.5       0  \n3    17.5             17.5       1  \n4    17.5             17.5       1  \n..    ...              ...     ...  \n62   10.0             10.0       0  \n63   16.5             17.5       0  \n64   27.5             27.5       1  \n65   30.0             33.0       0  \n66   28.5              1.5       1  \n\n[67 rows x 9 columns]",
      "text/html": "<div>\n<style scoped>\n    .dataframe tbody tr th:only-of-type {\n        vertical-align: middle;\n    }\n\n    .dataframe tbody tr th {\n        vertical-align: top;\n    }\n\n    .dataframe thead th {\n        text-align: right;\n    }\n</style>\n<table border=\"1\" class=\"dataframe\">\n  <thead>\n    <tr style=\"text-align: right;\">\n      <th></th>\n      <th>Year</th>\n      <th>Car</th>\n      <th>Position</th>\n      <th>Lap</th>\n      <th>Gap Before Pit</th>\n      <th>Laps Until Front Car Pit</th>\n      <th>Stint</th>\n      <th>Front Car Stint</th>\n      <th>Passed</th>\n    </tr>\n  </thead>\n  <tbody>\n    <tr>\n      <th>0</th>\n      <td>2023</td>\n      <td>27.0</td>\n      <td>4</td>\n      <td>68.0</td>\n      <td>5.755</td>\n      <td>4.0</td>\n      <td>15.5</td>\n      <td>17.5</td>\n      <td>1</td>\n    </tr>\n    <tr>\n      <th>1</th>\n      <td>2023</td>\n      <td>27.0</td>\n      <td>10</td>\n      <td>226.0</td>\n      <td>4.624</td>\n      <td>0.0</td>\n      <td>27.5</td>\n      <td>27.5</td>\n      <td>1</td>\n    </tr>\n    <tr>\n      <th>2</th>\n      <td>2023</td>\n      <td>27.0</td>\n      <td>7</td>\n      <td>329.0</td>\n      <td>2.216</td>\n      <td>0.0</td>\n      <td>21.5</td>\n      <td>28.5</td>\n      <td>0</td>\n    </tr>\n    <tr>\n      <th>3</th>\n      <td>2023</td>\n      <td>83.0</td>\n      <td>7</td>\n      <td>72.0</td>\n      <td>1.086</td>\n      <td>0.0</td>\n      <td>17.5</td>\n      <td>17.5</td>\n      <td>1</td>\n    </tr>\n    <tr>\n      <th>4</th>\n      <td>2023</td>\n      <td>12.0</td>\n      <td>5</td>\n      <td>72.0</td>\n      <td>1.937</td>\n      <td>0.0</td>\n      <td>17.5</td>\n      <td>17.5</td>\n      <td>1</td>\n    </tr>\n    <tr>\n      <th>...</th>\n      <td>...</td>\n      <td>...</td>\n      <td>...</td>\n      <td>...</td>\n      <td>...</td>\n      <td>...</td>\n      <td>...</td>\n      <td>...</td>\n      <td>...</td>\n    </tr>\n    <tr>\n      <th>62</th>\n      <td>2023</td>\n      <td>80.0</td>\n      <td>16</td>\n      <td>15.0</td>\n      <td>0.912</td>\n      <td>0.0</td>\n      <td>10.0</td>\n      <td>10.0</td>\n      <td>0</td>\n    </tr>\n    <tr>\n      <th>63</th>\n      <td>2023</td>\n      <td>80.0</td>\n      <td>9</td>\n      <td>72.0</td>\n      <td>6.331</td>\n      <td>0.0</td>\n      <td>16.5</td>\n      <td>17.5</td>\n      <td>0</td>\n    </tr>\n    <tr>\n      <th>64</th>\n      <td>2023</td>\n      <td>80.0</td>\n      <td>5</td>\n      <td>226.0</td>\n      <td>0.437</td>\n      <td>0.0</td>\n      <td>27.5</td>\n      <td>27.5</td>\n      <td>1</td>\n    </tr>\n    <tr>\n      <th>65</th>\n      <td>2023</td>\n      <td>80.0</td>\n      <td>3</td>\n      <td>298.0</td>\n      <td>4.544</td>\n      <td>7.0</td>\n      <td>30.0</td>\n      <td>33.0</td>\n      <td>0</td>\n    </tr>\n    <tr>\n      <th>66</th>\n      <td>2023</td>\n      <td>80.0</td>\n      <td>8</td>\n      <td>329.0</td>\n      <td>3.073</td>\n      <td>0.0</td>\n      <td>28.5</td>\n      <td>1.5</td>\n      <td>1</td>\n    </tr>\n  </tbody>\n</table>\n<p>67 rows × 9 columns</p>\n</div>"
     },
     "execution_count": 650,
     "metadata": {},
     "output_type": "execute_result"
    }
   ],
   "source": [
    "results_df.head(100)"
   ],
   "metadata": {
    "collapsed": false,
    "ExecuteTime": {
     "end_time": "2024-08-09T23:45:34.528278Z",
     "start_time": "2024-08-09T23:45:34.520407Z"
    }
   },
   "id": "eb66545d9bcb9243",
   "execution_count": 650
  },
  {
   "cell_type": "code",
   "outputs": [
    {
     "name": "stdout",
     "output_type": "stream",
     "text": [
      "49 1\n"
     ]
    }
   ],
   "source": [
    "num = 0\n",
    "count = 0\n",
    "for _, row in results_df.iterrows():\n",
    "    if row['Laps Until Front Car Pit'] == 0:\n",
    "        num += 1\n",
    "        if row['Stint'] > row['Front Car Stint'] and row['Passed'] == 0:\n",
    "            count += 1\n",
    "print(num, count)"
   ],
   "metadata": {
    "collapsed": false,
    "ExecuteTime": {
     "end_time": "2024-08-09T23:45:34.533096Z",
     "start_time": "2024-08-09T23:45:34.528278Z"
    }
   },
   "id": "3151e3a126338e67",
   "execution_count": 651
  },
  {
   "cell_type": "code",
   "outputs": [],
   "source": [
    "results_df.to_csv(r'C:\\Users\\lucas\\Downloads\\FYM\\Compiled Road Atlanta.csv',mode='a', header=False, index=False)"
   ],
   "metadata": {
    "collapsed": false,
    "ExecuteTime": {
     "end_time": "2024-08-09T23:45:34.537639Z",
     "start_time": "2024-08-09T23:45:34.533096Z"
    }
   },
   "id": "1060e9a05a6b1a09",
   "execution_count": 652
  },
  {
   "cell_type": "code",
   "outputs": [],
   "source": [],
   "metadata": {
    "collapsed": false,
    "ExecuteTime": {
     "end_time": "2024-08-09T23:45:34.539971Z",
     "start_time": "2024-08-09T23:45:34.537639Z"
    }
   },
   "id": "2000cd21bb995a53",
   "execution_count": 652
  }
 ],
 "metadata": {
  "kernelspec": {
   "display_name": "Python 3",
   "language": "python",
   "name": "python3"
  },
  "language_info": {
   "codemirror_mode": {
    "name": "ipython",
    "version": 2
   },
   "file_extension": ".py",
   "mimetype": "text/x-python",
   "name": "python",
   "nbconvert_exporter": "python",
   "pygments_lexer": "ipython2",
   "version": "2.7.6"
  }
 },
 "nbformat": 4,
 "nbformat_minor": 5
}
